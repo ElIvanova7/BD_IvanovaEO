{
  "nbformat": 4,
  "nbformat_minor": 0,
  "metadata": {
    "colab": {
      "provenance": []
    },
    "kernelspec": {
      "name": "python3",
      "display_name": "Python 3"
    },
    "language_info": {
      "name": "python"
    }
  },
  "cells": [
    {
      "cell_type": "markdown",
      "source": [
        "**1. Найти велосипед с максимальным временем пробега.**\n",
        "\n",
        "\n"
      ],
      "metadata": {
        "id": "uvyx04dg_3sw"
      }
    },
    {
      "cell_type": "code",
      "source": [
        "from pyspark.sql import SparkSession\n",
        "from pyspark import SparkContext, SparkConf\n",
        "from typing import NamedTuple\n",
        "from datetime import datetime\n",
        "\n",
        "from pyspark.sql.functions import udf, col\n",
        "from pyspark.sql import functions as func\n",
        "from pyspark.sql.types import DoubleType\n",
        "from prettytable import PrettyTable\n",
        "\n",
        "import numpy as np\n",
        "\n"
      ],
      "metadata": {
        "id": "KptA-9lw_073"
      },
      "execution_count": 6,
      "outputs": []
    },
    {
      "cell_type": "code",
      "source": [
        "\n",
        "   spark = SparkSession.builder\",
        "   .master("local[*]")\\\\n",
        "   .master("local[*]")\\\\n",
        "\n"
      ],
      "metadata": {
        "id": "KptA-9lw_073"
      },
      "execution_count": 6,
      "outputs": []
    },
    {
      "cell_type": "code",
      "source": [
        "\n",
        "\n",
        "   trip_data = spark.read\\\n",
        "   .option(\"header\", True)\\\n",
        "   .option(\"inferSchema\", True)\\\n",
        "   .option(\"timestampFormat\", 'M/d/y H:m')\\\n",
        "   .csv(\"trips.csv\")\n",
        "\n",
        "   station_data = spark.read\\\n",
        "   .option(\"header\", True)\\\n",
        "   .option(\"inferSchema\", True)\\\n",
        "   .option(\"timestampFormat\", 'M/d/y H:m')\\\n",
        "   .csv(\"stations.csv\")\n",
        "\n"
      ],
      "metadata": {
        "id": "6m17rHfI_c4m"
      },
      "execution_count": 18,
      "outputs": []
    },
    {
      "cell_type": "code",
      "source": [
        "# Группируем данные по bike_id и суммируем продолжительность поездок для каждого велосипеда\n",
        "bike_max_dur = (\n",
        "    trip_data\n",
        "    .groupBy(\"bike_id\")  # Группировка по идентификатору велосипеда\n",
        "    .agg({\"duration\": \"sum\"})  # Суммирование продолжительности поездок\n",
        "    .withColumnRenamed(\"sum(duration)\", \"total_duration\")  # Переименование столбца с суммой\n",
        "    .sort(\"total_duration\", ascending=False)  # Сортировка по убыванию общего времени\n",
        "    .first()  # Получение записи с максимальным временем\n",
        ")\n",
        "\n",
        "# Создаем таблицу для отображения результатов\n",
        "table = PrettyTable()\n",
        "table.field_names = [\"Bike ID\", \"Total Duration (minutes)\"]  # Названия столбцов в таблице\n",
        "table.add_row([bike_max_dur['bike_id'], bike_max_dur['total_duration']])  # Добавляем данные\n",
        "\n",
        "# Выводим заголовок и результаты\n",
        "print(\"Задание 1\")\n",
        "print(\"Найти велосипед с максимальным временем пробега.\")\n",
        "print(table)  # Отображение таблицы\n"
      ],
      "metadata": {
        "colab": {
          "base_uri": "https://localhost:8080/"
        },
        "id": "SGA-fwFE_gqL",
        "outputId": "931c0bbf-8451-4a7b-af1b-0afd07be7b9b"
      },
      "execution_count": 36,
      "outputs": [
        {
          "output_type": "stream",
          "name": "stdout",
          "text": [
            "Задание 1\n",
            "Найти велосипед с максимальным временем пробега.\n",
            "+---------+--------------------------+\n",
            "| Bike ID | Total Duration (minutes) |\n",
            "+---------+--------------------------+\n",
            "|   535   |         18611693         |\n",
            "+---------+--------------------------+\n"
          ]
        }
      ]
    },
    {
      "cell_type": "code",
      "source": [
        "\n",
        "!pip install haversine\n",
        "\n",
        "from haversine import haversine"
      ],
      "metadata": {
        "colab": {
          "base_uri": "https://localhost:8080/"
        },
        "id": "zz3S16AlELJY",
        "outputId": "6e2cc390-6afd-40bd-a1e9-6fa94d7b3bd6"
      },
      "execution_count": 22,
      "outputs": [
        {
          "output_type": "stream",
          "name": "stdout",
          "text": [
            "Collecting haversine\n",
            "  Downloading haversine-2.9.0-py2.py3-none-any.whl.metadata (5.8 kB)\n",
            "Downloading haversine-2.9.0-py2.py3-none-any.whl (7.7 kB)\n",
            "Installing collected packages: haversine\n",
            "Successfully installed haversine-2.9.0\n"
          ]
        }
      ]
    },
    {
      "cell_type": "code",
      "source": [
        "# Функция для вычисления расстояния между двумя точками на основе координат (широта и долгота)\n",
        "def compute_distance(lat_a, lon_a, lat_b, lon_b):\n",
        "    return haversine((lat_a, lon_a), (lat_b, lon_b))  # Используем функцию haversine для расчета расстояния\n",
        "\n",
        "# Создаем UDF (пользовательская функция) для использования в Spark\n",
        "distance_udf = func.udf(compute_distance, DoubleType())  # Определяем тип возвращаемого значения как Double\n",
        "\n",
        "# Выбираем необходимые столбцы из данных станций\n",
        "stations = station_data.select(\"id\", \"lat\", \"long\")  # id, широта и долгота станций\n",
        "\n",
        "# Генерируем все возможные комбинации станций с помощью перекрестного соединения\n",
        "all_station_combinations = stations.crossJoin(stations) \\\n",
        "    .toDF(\"id1\", \"lat1\", \"lon1\", \"id2\", \"lat2\", \"lon2\")  # Переименовываем столбцы для удобства\n",
        "\n",
        "# Удаляем пары станций, где ID одинаковы, чтобы не считать расстояние между одной и той же станцией\n",
        "valid_pairs = all_station_combinations.filter(\"id1 != id2\")\n",
        "\n",
        "# Рассчитываем географическое расстояние для каждой пары станций\n",
        "pairs_with_distance = valid_pairs.withColumn(\n",
        "    \"geo_distance_km\",\n",
        "    distance_udf(\"lat1\", \"lon1\", \"lat2\", \"lon2\")  # Применяем UDF для вычисления расстояния\n",
        ")\n",
        "\n",
        "# Находим запись с максимальным расстоянием\n",
        "max_distance_row = pairs_with_distance.orderBy(\"geo_distance_km\", ascending=False).first()\n",
        "\n",
        "# Создаем таблицу для отображения результатов\n",
        "table = PrettyTable()\n",
        "table.field_names = [\"Station ID 1\", \"Station ID 2\", \"Distance (km)\"]  # Названия столбцов в таблице\n",
        "table.add_row([max_distance_row['id1'], max_distance_row['id2'], max_distance_row['geo_distance_km']])  # Добавляем данные\n",
        "\n",
        "# Выводим заголовок и результаты\n",
        "print(\"Задание 2\")\n",
        "print(\"Найти наибольшее геодезическое расстояние между станциями.\")\n",
        "print(table)  # Отображение таблицы\n"
      ],
      "metadata": {
        "colab": {
          "base_uri": "https://localhost:8080/"
        },
        "id": "HaNwWJZPDvZf",
        "outputId": "06175dd7-93b5-48d8-d965-3c75194ec5c6"
      },
      "execution_count": 37,
      "outputs": [
        {
          "output_type": "stream",
          "name": "stdout",
          "text": [
            "Задание 2\n",
            "Найти наибольшее геодезическое расстояние между станциями.\n",
            "+--------------+--------------+-------------------+\n",
            "| Station ID 1 | Station ID 2 |   Distance (km)   |\n",
            "+--------------+--------------+-------------------+\n",
            "|      16      |      60      | 69.92097253310907 |\n",
            "+--------------+--------------+-------------------+\n"
          ]
        }
      ]
    },
    {
      "cell_type": "code",
      "source": [
        "# Извлекаем поездку с максимальной продолжительностью из набора данных о поездках\n",
        "longest_trip = (\n",
        "    trip_data\n",
        "    .select(\"start_station_name\", \"end_station_name\", \"duration\")  # Выбираем необходимые столбцы: название стартовой и конечной станции, продолжительность\n",
        "    .orderBy(col(\"duration\").desc())  # Сортируем по продолжительности в порядке убывания\n",
        "    .first()  # Берем первую запись (с максимальной продолжительностью)\n",
        ")\n",
        "\n",
        "# Получаем название стартовой и конечной станции, а также продолжительность в секундах\n",
        "origin = longest_trip[\"start_station_name\"]\n",
        "destination = longest_trip[\"end_station_name\"]\n",
        "duration_secs = longest_trip[\"duration\"]\n",
        "\n",
        "# Создаем таблицу для отображения результатов\n",
        "table = PrettyTable()\n",
        "table.field_names = [\"Start Station\", \"End Station\", \"Duration (seconds)\"]  # Устанавливаем заголовки столбцов\n",
        "table.add_row([origin, destination, duration_secs])  # Добавляем информацию о самой долгой поездке\n",
        "\n",
        "# Выводим заголовок и результаты\n",
        "print(\"Задание 3\")\n",
        "print(\"Найти путь велосипеда с максимальным временем пробега через станции.\")\n",
        "print(table)  # Отображаем таблицу с результатами\n"
      ],
      "metadata": {
        "colab": {
          "base_uri": "https://localhost:8080/"
        },
        "id": "97ub_eFYEoiH",
        "outputId": "ae3c3e14-843b-4679-93bc-6e0ba496b28b"
      },
      "execution_count": 38,
      "outputs": [
        {
          "output_type": "stream",
          "name": "stdout",
          "text": [
            "Задание 3\n",
            "Найти путь велосипеда с максимальным временем пробега через станции.\n",
            "+--------------------------+---------------+--------------------+\n",
            "|      Start Station       |  End Station  | Duration (seconds) |\n",
            "+--------------------------+---------------+--------------------+\n",
            "| South Van Ness at Market | 2nd at Folsom |      17270400      |\n",
            "+--------------------------+---------------+--------------------+\n"
          ]
        }
      ]
    },
    {
      "cell_type": "code",
      "source": [
        "# Извлекаем уникальные идентификаторы велосипедов из набора данных\n",
        "unique_bike_ids = trip_data.select(\"bike_id\").distinct()  # Выбираем столбец bike_id и оставляем только уникальные значения\n",
        "total_bikes = unique_bike_ids.count()  # Подсчитываем общее количество уникальных велосипедов\n",
        "\n",
        "# Создаем таблицу для отображения результата\n",
        "table = PrettyTable()\n",
        "table.field_names = [\"Total Bikes\"]  # Устанавливаем заголовки столбцов\n",
        "table.add_row([total_bikes])  # Добавляем общее количество велосипедов в таблицу\n",
        "\n",
        "# Выводим заголовок и результаты\n",
        "print(\"Задание 4\")\n",
        "print(\"Найти количество велосипедов в системе.\")\n",
        "print(table)  # Отображаем таблицу с результатами\n"
      ],
      "metadata": {
        "colab": {
          "base_uri": "https://localhost:8080/"
        },
        "id": "PK1NjjCiE8My",
        "outputId": "503a8c4f-1b6f-419e-b33d-ecf27124277a"
      },
      "execution_count": 39,
      "outputs": [
        {
          "output_type": "stream",
          "name": "stdout",
          "text": [
            "Задание 4\n",
            "Найти количество велосипедов в системе.\n",
            "+-------------+\n",
            "| Total Bikes |\n",
            "+-------------+\n",
            "|     700     |\n",
            "+-------------+\n"
          ]
        }
      ]
    },
    {
      "cell_type": "code",
      "source": [
        "\n",
        "# Создаем временное представление датафрейма trip_data для выполнения SQL-запросов\n",
        "trip_data.createOrReplaceTempView(\"trip_table\")\n",
        "\n",
        "# Определяем SQL-запрос для получения почтовых кодов и суммарной продолжительности поездок по этим кодам\n",
        "query = \"\"\"\n",
        "SELECT zip_code, SUM(duration) / 60 AS total_minutes\n",
        "FROM trip_table\n",
        "GROUP BY zip_code\n",
        "HAVING total_minutes > 180\n",
        "\"\"\"\n",
        "# Выполняем SQL-запрос и сохраняем результаты в датафрейме\n",
        "long_usage_zip_codes = spark.sql(query)\n",
        "print(\"Задание 5\")\n",
        "print(\"Найти пользователей потративших на поездки более 3 часов.\")\n",
        "# Отображаем найденные zip-коды и количество минут\n",
        "long_usage_zip_codes.show()\n"
      ],
      "metadata": {
        "colab": {
          "base_uri": "https://localhost:8080/"
        },
        "id": "Y62ptHQjFlF5",
        "outputId": "6d7492b7-5dc0-4010-c04e-932837cf98dc"
      },
      "execution_count": 42,
      "outputs": [
        {
          "output_type": "stream",
          "name": "stdout",
          "text": [
            "Задание 5\n",
            "Найти пользователей потративших на поездки более 3 часов.\n",
            "+--------+------------------+\n",
            "|zip_code|     total_minutes|\n",
            "+--------+------------------+\n",
            "|   94102|         318800.35|\n",
            "|   95134|12133.716666666667|\n",
            "|   84606|           1585.75|\n",
            "|   80305|            3015.1|\n",
            "|   60070|481.98333333333335|\n",
            "|   95519|            505.05|\n",
            "|   43085|             194.5|\n",
            "|   91910| 841.4666666666667|\n",
            "|   77339|            228.55|\n",
            "|   48063|            229.25|\n",
            "|   85022|211.36666666666667|\n",
            "|    1090|            339.85|\n",
            "|    2136| 266.8333333333333|\n",
            "|   11722|405.51666666666665|\n",
            "|   95138|           2588.25|\n",
            "|   94610| 60510.46666666667|\n",
            "|   94404|           59822.5|\n",
            "|   80301| 2536.483333333333|\n",
            "|   91326|1098.0833333333333|\n",
            "|   90742|            182.75|\n",
            "+--------+------------------+\n",
            "only showing top 20 rows\n",
            "\n"
          ]
        }
      ]
    }
  ]
}

{
  "nbformat": 4,
  "nbformat_minor": 0,
  "metadata": {
    "colab": {
      "provenance": []
    },
    "kernelspec": {
      "name": "python3",
      "display_name": "Python 3"
    },
    "language_info": {
      "name": "python"
    }
  },
  "cells": [
    {
      "cell_type": "markdown",
      "source": [
        "**Лабораторная работа 2**"
      ],
      "metadata": {
        "id": "zaEnmvtl_dD9"
      }
    },
    {
      "cell_type": "code",
      "execution_count": null,
      "metadata": {
        "id": "K0UDu28Q7lxb"
      },
      "outputs": [],
      "source": [
        "from pyspark.sql import SparkSession\n",
        "from pyspark.sql.functions import col, explode, split, regexp_replace, year, count, row_number, lower, to_timestamp\n",
        "from pyspark.sql.window import Window\n",
        "from pyspark.sql.types import StructType, StructField, StringType\n",
        "import xml.etree.ElementTree as ET\n",
        "\n",
        "spark = SparkSession.builder \\\n",
        "    .appName(\"BD_LR2_Ivanova\") \\\n",
        "    .getOrCreate()"
      ]
    },
    {
      "cell_type": "code",
      "source": [
        "xml_file = 'posts_sample.xml'\n",
        "languages_file = \"programming-languages.csv\""
      ],
      "metadata": {
        "id": "QDr2xhTg7-TI"
      },
      "execution_count": null,
      "outputs": []
    },
    {
      "cell_type": "code",
      "source": [
        "posts_schema = StructType([\n",
        "    StructField(\"CreationDate\", StringType(), True),\n",
        "    StructField(\"Tags\", StringType(), True)\n",
        "])"
      ],
      "metadata": {
        "id": "hCX1C3Es-Ksd"
      },
      "execution_count": null,
      "outputs": []
    },
    {
      "cell_type": "code",
      "source": [
        "# Функция для обработки XML и формирования RDD\n",
        "def extract_xml_data(file_xml):\n",
        "    # Парсим XML файл\n",
        "    document_tree = ET.parse(file_xml)\n",
        "    root_element = document_tree.getroot()\n",
        "    records = []\n",
        "\n",
        "    # Обрабатываем каждую строку с данными\n",
        "    for element in root_element.findall('row'):\n",
        "        date_creation = element.attrib.get('CreationDate')  # Получаем дату создания\n",
        "        tags_field = element.attrib.get('Tags')  # Получаем тег\n",
        "        if date_creation and tags_field:\n",
        "            # Убираем символы \"<\" и \">\" из тегов\n",
        "            clean_tags = regexp_replace(col(\"Tags\"), \"[<>]\", \" \").alias(\"clean_tags\")\n",
        "            # Разбиваем строки тегов на массив\n",
        "            tags_array = tags_field.replace('<', ' ').replace('>', ' ').strip().split()\n",
        "            for tag in tags_array:\n",
        "                # Добавляем дату и тег в записи\n",
        "                records.append((date_creation, tag))\n",
        "    return records\n",
        "\n",
        "# Создание DataFrame на основе XML данных\n",
        "xml_data = extract_xml_data(xml_file)\n",
        "data_frame = spark.createDataFrame(xml_data, schema=StructType([\n",
        "    StructField(\"Creation Date\", StringType(), True),  # Заголовок для даты создания\n",
        "    StructField(\"Tag\", StringType(), True)  # Заголовок для тега\n",
        "]))\n",
        "data_frame = data_frame.withColumn(\"Year\", year(to_timestamp(col(\"Creation Date\"))))  # Добавление года\n",
        "data_frame.show(10)  # Отображаем первые 10 строк DataFrame\n",
        "\n"
      ],
      "metadata": {
        "colab": {
          "base_uri": "https://localhost:8080/"
        },
        "id": "85ytjqox_vHq",
        "outputId": "71a2faf6-7364-4958-c49d-1c8270093db0"
      },
      "execution_count": null,
      "outputs": [
        {
          "output_type": "stream",
          "name": "stdout",
          "text": [
            "+--------------------+-------------------+----+\n",
            "|       Creation Date|                Tag|Year|\n",
            "+--------------------+-------------------+----+\n",
            "|2008-07-31T21:42:...|                 c#|2008|\n",
            "|2008-07-31T21:42:...|     floating-point|2008|\n",
            "|2008-07-31T21:42:...|    type-conversion|2008|\n",
            "|2008-07-31T21:42:...|             double|2008|\n",
            "|2008-07-31T21:42:...|            decimal|2008|\n",
            "|2008-07-31T22:08:...|               html|2008|\n",
            "|2008-07-31T22:08:...|                css|2008|\n",
            "|2008-07-31T22:08:...|internet-explorer-7|2008|\n",
            "|2008-07-31T23:40:...|                 c#|2008|\n",
            "|2008-07-31T23:40:...|               .net|2008|\n",
            "+--------------------+-------------------+----+\n",
            "only showing top 10 rows\n",
            "\n"
          ]
        }
      ]
    },
    {
      "cell_type": "code",
      "source": [
        "# Чтение CSV-файла с языками и создание DataFrame\n",
        "languages_data = spark.read.csv(languages_file, header=True)\n",
        "\n",
        "# Приведение названий языков к нижнему регистру для унификации\n",
        "languages_data = languages_data.withColumn(\"name\", lower(col(\"name\")))\n",
        "\n",
        "# Приведение тегов постов к нижнему регистру для унификации\n",
        "posts_data = posts_df.withColumn(\"Tag\", lower(col(\"Tag\")))\n",
        "\n",
        "# Объединение DataFrame постов и языков по совпадающим тегам\n",
        "# Фильтруем только те записи, где теги соответствуют языкам\n",
        "matched_posts = posts_data.join(languages_data, posts_data[\"Tag\"] == languages_data[\"name\"], \"inner\")\n",
        "\n",
        "# Вывод первых 10 записей результата объединения\n",
        "matched_posts.show(10)"
      ],
      "metadata": {
        "colab": {
          "base_uri": "https://localhost:8080/"
        },
        "id": "r-2cpsJdBoQQ",
        "outputId": "6ae54e95-21f2-4162-f201-fc1ef6ae7b4b"
      },
      "execution_count": null,
      "outputs": [
        {
          "output_type": "stream",
          "name": "stdout",
          "text": [
            "+--------------------+-----------+----+-----------+--------------------+\n",
            "|        CreationDate|        Tag|Year|       name|       wikipedia_url|\n",
            "+--------------------+-----------+----+-----------+--------------------+\n",
            "|2010-09-23T12:13:...|       java|2010|       java|https://en.wikipe...|\n",
            "|2010-09-26T17:07:...|        php|2010|        php|https://en.wikipe...|\n",
            "|2010-09-30T18:27:...|       ruby|2010|       ruby|https://en.wikipe...|\n",
            "|2010-10-01T11:52:...|          c|2010|          c|https://en.wikipe...|\n",
            "|2010-10-04T21:05:...|        php|2010|        php|https://en.wikipe...|\n",
            "|2010-10-06T13:31:...|     python|2010|     python|https://en.wikipe...|\n",
            "|2010-10-07T20:53:...| javascript|2010| javascript|https://en.wikipe...|\n",
            "|2010-10-07T23:56:...|applescript|2010|applescript|https://en.wikipe...|\n",
            "|2010-10-08T14:44:...|        php|2010|        php|https://en.wikipe...|\n",
            "|2010-10-11T07:54:...|        php|2010|        php|https://en.wikipe...|\n",
            "+--------------------+-----------+----+-----------+--------------------+\n",
            "only showing top 10 rows\n",
            "\n"
          ]
        }
      ]
    },
    {
      "cell_type": "code",
      "source": [
        "tag_counts = filtered_df.groupBy(\"Year\", \"Tag\").agg(count(\"*\").alias(\"Count\"))\n",
        "\n",
        "# Определение окна для ранжирования языков по популярности в каждом году\n",
        "window_spec = Window.partitionBy(\"Year\").orderBy(col(\"Count\").desc())\n",
        "\n",
        "# Вычисление ранга для каждого языка в каждом году и фильтрация топ-10\n",
        "top10_df = tag_counts.withColumn(\"Rank\", row_number().over(window_spec)) \\\n",
        "                     .filter(col(\"Rank\") <= 10) \\\n",
        "                     .orderBy(\"Year\", \"Rank\")\n",
        "top10_df.show(20)"
      ],
      "metadata": {
        "colab": {
          "base_uri": "https://localhost:8080/"
        },
        "id": "j3Lqglw9-wki",
        "outputId": "c81e61f3-1e35-4a85-f5c8-452e55d0c65d"
      },
      "execution_count": null,
      "outputs": [
        {
          "output_type": "stream",
          "name": "stdout",
          "text": [
            "+----+-----------+-----+----+\n",
            "|Year|        Tag|Count|Rank|\n",
            "+----+-----------+-----+----+\n",
            "|2008|       java|    5|   1|\n",
            "|2008|       ruby|    4|   2|\n",
            "|2008|          c|    2|   3|\n",
            "|2008| javascript|    2|   4|\n",
            "|2008|        x++|    1|   5|\n",
            "|2008|     python|    1|   6|\n",
            "|2008|         io|    1|   7|\n",
            "|2008|     groovy|    1|   8|\n",
            "|2008|        php|    1|   9|\n",
            "|2009|       java|   28|   1|\n",
            "|2009|     python|   23|   2|\n",
            "|2009|        php|   22|   3|\n",
            "|2009| javascript|   12|   4|\n",
            "|2009|       ruby|    8|   5|\n",
            "|2009|     delphi|    7|   6|\n",
            "|2009|          c|    6|   7|\n",
            "|2009|objective-c|    6|   8|\n",
            "|2009|    haskell|    4|   9|\n",
            "|2009|       bash|    3|  10|\n",
            "|2010|       java|   52|   1|\n",
            "+----+-----------+-----+----+\n",
            "only showing top 20 rows\n",
            "\n"
          ]
        }
      ]
    },
    {
      "cell_type": "code",
      "source": [
        "# Группировка данных по году и тегу для подсчета количества постов\n",
        "tag_summary = filtered_df.groupBy(\"Year\", \"Tag\").agg(count(\"*\").alias(\"Total Count\"))\n",
        "\n",
        "# Определение окна для ранжирования языков по их популярности в пределах каждого года\n",
        "ranking_window = Window.partitionBy(\"Year\").orderBy(col(\"Total Count\").desc())\n",
        "\n",
        "# Добавление колонки с рангом для каждого языка в соответствии с его популярностью за год\n",
        "# Фильтрация для получения только топ-10 языков по популярности\n",
        "top_languages_per_year = (tag_summary\n",
        "                          .withColumn(\"Language Rank\", row_number().over(ranking_window))\n",
        "                          .filter(col(\"Language Rank\") <= 10)\n",
        "                          .orderBy(\"Year\", \"Language Rank\"))\n",
        "\n",
        "# Вывод первых 20 записей с топ-10 языками по популярности за каждый год\n",
        "top_languages_per_year.show(20)"
      ],
      "metadata": {
        "colab": {
          "base_uri": "https://localhost:8080/"
        },
        "id": "7Lb8dAtQB1c-",
        "outputId": "235be21a-2198-4a40-ab5c-68493738a5a5"
      },
      "execution_count": null,
      "outputs": [
        {
          "output_type": "stream",
          "name": "stdout",
          "text": [
            "+----+-----------+-----------+-------------+\n",
            "|Year|        Tag|Total Count|Language Rank|\n",
            "+----+-----------+-----------+-------------+\n",
            "|2008|       java|          5|            1|\n",
            "|2008|       ruby|          4|            2|\n",
            "|2008|          c|          2|            3|\n",
            "|2008| javascript|          2|            4|\n",
            "|2008|        x++|          1|            5|\n",
            "|2008|     python|          1|            6|\n",
            "|2008|         io|          1|            7|\n",
            "|2008|     groovy|          1|            8|\n",
            "|2008|        php|          1|            9|\n",
            "|2009|       java|         28|            1|\n",
            "|2009|     python|         23|            2|\n",
            "|2009|        php|         22|            3|\n",
            "|2009| javascript|         12|            4|\n",
            "|2009|       ruby|          8|            5|\n",
            "|2009|     delphi|          7|            6|\n",
            "|2009|          c|          6|            7|\n",
            "|2009|objective-c|          6|            8|\n",
            "|2009|    haskell|          4|            9|\n",
            "|2009|       bash|          3|           10|\n",
            "|2010|       java|         52|            1|\n",
            "+----+-----------+-----------+-------------+\n",
            "only showing top 20 rows\n",
            "\n"
          ]
        }
      ]
    },
    {
      "cell_type": "code",
      "source": [
        "# Сохранение DataFrame в Parquet\n",
        "top10_df.write.mode(\"overwrite\").parquet(\"top_languages.parquet\")\n",
        "from google.colab import files\n",
        "# Архивация результата\n",
        "!zip -r top_languages.zip top_languages.parquet\n",
        "files.download(\"top_languages.zip\")\n",
        "result_df = spark.read.parquet(\"top_languages.parquet\")\n",
        "result_df.show(truncate=False, n=500)"
      ],
      "metadata": {
        "colab": {
          "base_uri": "https://localhost:8080/",
          "height": 1000
        },
        "id": "nLRU1Eg1-4N2",
        "outputId": "dbd25ec6-7ae8-4667-9e91-cfe4a36d5d83"
      },
      "execution_count": null,
      "outputs": [
        {
          "output_type": "stream",
          "name": "stdout",
          "text": [
            "updating: top_languages.parquet/ (stored 0%)\n",
            "updating: top_languages.parquet/._SUCCESS.crc (stored 0%)\n",
            "updating: top_languages.parquet/_SUCCESS (stored 0%)\n",
            "  adding: top_languages.parquet/part-00000-1eb50558-b71c-4ce3-bc58-06cdc5223685-c000.snappy.parquet (deflated 36%)\n",
            "  adding: top_languages.parquet/.part-00000-1eb50558-b71c-4ce3-bc58-06cdc5223685-c000.snappy.parquet.crc (stored 0%)\n"
          ]
        },
        {
          "output_type": "display_data",
          "data": {
            "text/plain": [
              "<IPython.core.display.Javascript object>"
            ],
            "application/javascript": [
              "\n",
              "    async function download(id, filename, size) {\n",
              "      if (!google.colab.kernel.accessAllowed) {\n",
              "        return;\n",
              "      }\n",
              "      const div = document.createElement('div');\n",
              "      const label = document.createElement('label');\n",
              "      label.textContent = `Downloading \"${filename}\": `;\n",
              "      div.appendChild(label);\n",
              "      const progress = document.createElement('progress');\n",
              "      progress.max = size;\n",
              "      div.appendChild(progress);\n",
              "      document.body.appendChild(div);\n",
              "\n",
              "      const buffers = [];\n",
              "      let downloaded = 0;\n",
              "\n",
              "      const channel = await google.colab.kernel.comms.open(id);\n",
              "      // Send a message to notify the kernel that we're ready.\n",
              "      channel.send({})\n",
              "\n",
              "      for await (const message of channel.messages) {\n",
              "        // Send a message to notify the kernel that we're ready.\n",
              "        channel.send({})\n",
              "        if (message.buffers) {\n",
              "          for (const buffer of message.buffers) {\n",
              "            buffers.push(buffer);\n",
              "            downloaded += buffer.byteLength;\n",
              "            progress.value = downloaded;\n",
              "          }\n",
              "        }\n",
              "      }\n",
              "      const blob = new Blob(buffers, {type: 'application/binary'});\n",
              "      const a = document.createElement('a');\n",
              "      a.href = window.URL.createObjectURL(blob);\n",
              "      a.download = filename;\n",
              "      div.appendChild(a);\n",
              "      a.click();\n",
              "      div.remove();\n",
              "    }\n",
              "  "
            ]
          },
          "metadata": {}
        },
        {
          "output_type": "display_data",
          "data": {
            "text/plain": [
              "<IPython.core.display.Javascript object>"
            ],
            "application/javascript": [
              "download(\"download_0dab67bc-f3e5-4816-b905-ba5e0ddabfb4\", \"top_languages.zip\", 6567)"
            ]
          },
          "metadata": {}
        },
        {
          "output_type": "stream",
          "name": "stdout",
          "text": [
            "+----+-----------+-----+----+\n",
            "|Year|Tag        |Count|Rank|\n",
            "+----+-----------+-----+----+\n",
            "|2008|java       |5    |1   |\n",
            "|2008|ruby       |4    |2   |\n",
            "|2008|c          |2    |3   |\n",
            "|2008|javascript |2    |4   |\n",
            "|2008|x++        |1    |5   |\n",
            "|2008|python     |1    |6   |\n",
            "|2008|io         |1    |7   |\n",
            "|2008|groovy     |1    |8   |\n",
            "|2008|php        |1    |9   |\n",
            "|2009|java       |28   |1   |\n",
            "|2009|python     |23   |2   |\n",
            "|2009|php        |22   |3   |\n",
            "|2009|javascript |12   |4   |\n",
            "|2009|ruby       |8    |5   |\n",
            "|2009|delphi     |7    |6   |\n",
            "|2009|c          |6    |7   |\n",
            "|2009|objective-c|6    |8   |\n",
            "|2009|haskell    |4    |9   |\n",
            "|2009|bash       |3    |10  |\n",
            "|2010|java       |52   |1   |\n",
            "|2010|php        |46   |2   |\n",
            "|2010|javascript |44   |3   |\n",
            "|2010|python     |26   |4   |\n",
            "|2010|objective-c|23   |5   |\n",
            "|2010|c          |20   |6   |\n",
            "|2010|ruby       |12   |7   |\n",
            "|2010|delphi     |8    |8   |\n",
            "|2010|applescript|3    |9   |\n",
            "|2010|r          |3    |10  |\n",
            "|2011|php        |102  |1   |\n",
            "|2011|java       |93   |2   |\n",
            "|2011|javascript |83   |3   |\n",
            "|2011|python     |37   |4   |\n",
            "|2011|objective-c|34   |5   |\n",
            "|2011|c          |24   |6   |\n",
            "|2011|ruby       |20   |7   |\n",
            "|2011|perl       |9    |8   |\n",
            "|2011|delphi     |8    |9   |\n",
            "|2011|bash       |7    |10  |\n",
            "|2012|php        |154  |1   |\n",
            "|2012|javascript |132  |2   |\n",
            "|2012|java       |124  |3   |\n",
            "|2012|python     |69   |4   |\n",
            "|2012|objective-c|45   |5   |\n",
            "|2012|ruby       |27   |6   |\n",
            "|2012|c          |27   |7   |\n",
            "|2012|bash       |10   |8   |\n",
            "|2012|r          |9    |9   |\n",
            "|2012|scala      |6    |10  |\n",
            "|2013|php        |198  |1   |\n",
            "|2013|javascript |198  |2   |\n",
            "|2013|java       |194  |3   |\n",
            "|2013|python     |90   |4   |\n",
            "|2013|objective-c|40   |5   |\n",
            "|2013|c          |36   |6   |\n",
            "|2013|ruby       |32   |7   |\n",
            "|2013|r          |26   |8   |\n",
            "|2013|bash       |12   |9   |\n",
            "|2013|scala      |11   |10  |\n",
            "|2014|javascript |239  |1   |\n",
            "|2014|java       |228  |2   |\n",
            "|2014|php        |167  |3   |\n",
            "|2014|python     |109  |4   |\n",
            "|2014|objective-c|52   |5   |\n",
            "|2014|c          |52   |6   |\n",
            "|2014|r          |28   |7   |\n",
            "|2014|ruby       |24   |8   |\n",
            "|2014|bash       |17   |9   |\n",
            "|2014|matlab     |17   |10  |\n",
            "|2015|javascript |277  |1   |\n",
            "|2015|java       |209  |2   |\n",
            "|2015|php        |167  |3   |\n",
            "|2015|python     |121  |4   |\n",
            "|2015|r          |43   |5   |\n",
            "|2015|c          |38   |6   |\n",
            "|2015|objective-c|30   |7   |\n",
            "|2015|ruby       |21   |8   |\n",
            "|2015|matlab     |16   |9   |\n",
            "|2015|scala      |15   |10  |\n",
            "|2016|javascript |278  |1   |\n",
            "|2016|java       |184  |2   |\n",
            "|2016|php        |155  |3   |\n",
            "|2016|python     |146  |4   |\n",
            "|2016|r          |52   |5   |\n",
            "|2016|c          |32   |6   |\n",
            "|2016|ruby       |24   |7   |\n",
            "|2016|bash       |18   |8   |\n",
            "|2016|scala      |16   |9   |\n",
            "|2016|matlab     |15   |10  |\n",
            "|2017|javascript |246  |1   |\n",
            "|2017|java       |204  |2   |\n",
            "|2017|python     |193  |3   |\n",
            "|2017|php        |138  |4   |\n",
            "|2017|r          |56   |5   |\n",
            "|2017|c          |25   |6   |\n",
            "|2017|typescript |20   |7   |\n",
            "|2017|objective-c|19   |8   |\n",
            "|2017|ruby       |17   |9   |\n",
            "|2017|powershell |14   |10  |\n",
            "|2018|python     |220  |1   |\n",
            "|2018|javascript |198  |2   |\n",
            "|2018|java       |146  |3   |\n",
            "|2018|php        |111  |4   |\n",
            "|2018|r          |66   |5   |\n",
            "|2018|typescript |27   |6   |\n",
            "|2018|c          |24   |7   |\n",
            "|2018|scala      |23   |8   |\n",
            "|2018|powershell |13   |9   |\n",
            "|2018|bash       |12   |10  |\n",
            "|2019|python     |166  |1   |\n",
            "|2019|javascript |135  |2   |\n",
            "|2019|java       |95   |3   |\n",
            "|2019|php        |65   |4   |\n",
            "|2019|r          |37   |5   |\n",
            "|2019|typescript |17   |6   |\n",
            "|2019|c          |14   |7   |\n",
            "|2019|bash       |11   |8   |\n",
            "|2019|go         |9    |9   |\n",
            "|2019|matlab     |9    |10  |\n",
            "+----+-----------+-----+----+\n",
            "\n"
          ]
        }
      ]
    }
  ]
}
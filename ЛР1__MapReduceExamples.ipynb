{
  "nbformat": 4,
  "nbformat_minor": 0,
  "metadata": {
    "colab": {
      "provenance": []
    },
    "kernelspec": {
      "name": "python3",
      "display_name": "Python 3"
    }
  },
  "cells": [
    {
      "cell_type": "markdown",
      "metadata": {
        "id": "82OvPKEiEqjc"
      },
      "source": [
        "# Введение в MapReduce модель на Python\n"
      ]
    },
    {
      "cell_type": "code",
      "metadata": {
        "id": "JQ2cvXLjICmI"
      },
      "source": [
        "from typing import NamedTuple # requires python 3.6+\n",
        "from typing import Iterator"
      ],
      "execution_count": 2,
      "outputs": []
    },
    {
      "cell_type": "code",
      "metadata": {
        "id": "yjPHumVwEyEg"
      },
      "source": [
        "def MAP(_, row:NamedTuple):\n",
        "  if (row.gender == 'female'):\n",
        "    yield (row.age, row) #Генерируем кортеж (возраст, строка данных)\n",
        "\n",
        "#Вычисляет среднее количество социальных контактов\n",
        "def REDUCE(age:str, rows:Iterator[NamedTuple]):\n",
        "  sum = 0\n",
        "  count = 0\n",
        "  for row in rows:\n",
        "    sum += row.social_contacts\n",
        "    count += 1\n",
        "  if (count > 0):\n",
        "    yield (age, sum/count)\n",
        "  else:\n",
        "    yield (age, 0)"
      ],
      "execution_count": 3,
      "outputs": []
    },
    {
      "cell_type": "markdown",
      "metadata": {
        "id": "vBKMgpG_ilaZ"
      },
      "source": [
        "Модель элемента данных"
      ]
    },
    {
      "cell_type": "code",
      "metadata": {
        "id": "Rv-XIjhTJPx3"
      },
      "source": [
        "class User(NamedTuple):\n",
        "  id: int\n",
        "  age: str\n",
        "  social_contacts: int\n",
        "  gender: str"
      ],
      "execution_count": 4,
      "outputs": []
    },
    {
      "cell_type": "code",
      "metadata": {
        "id": "5KV0Ze2vQgu5"
      },
      "source": [
        "input_collection = [\n",
        "    User(id=0, age=55, gender='male', social_contacts=20),\n",
        "    User(id=1, age=25, gender='female', social_contacts=240),\n",
        "    User(id=2, age=25, gender='female', social_contacts=500),\n",
        "    User(id=3, age=33, gender='female', social_contacts=800)\n",
        "]"
      ],
      "execution_count": 5,
      "outputs": []
    },
    {
      "cell_type": "markdown",
      "metadata": {
        "id": "YFeqzyZxZIFZ"
      },
      "source": [
        "Функция RECORDREADER моделирует чтение элементов с диска или по сети."
      ]
    },
    {
      "cell_type": "code",
      "metadata": {
        "id": "S5HR4E_GQoMJ"
      },
      "source": [
        "def RECORDREADER():\n",
        "  return [(u.id, u) for u in input_collection]"
      ],
      "execution_count": 6,
      "outputs": []
    },
    {
      "cell_type": "code",
      "metadata": {
        "id": "NeEoWla-ROUy",
        "colab": {
          "base_uri": "https://localhost:8080/"
        },
        "outputId": "5953fb63-c641-449d-fb32-f5ef0cc749c3"
      },
      "source": [
        "list(RECORDREADER())"
      ],
      "execution_count": 7,
      "outputs": [
        {
          "output_type": "execute_result",
          "data": {
            "text/plain": [
              "[(0, User(id=0, age=55, social_contacts=20, gender='male')),\n",
              " (1, User(id=1, age=25, social_contacts=240, gender='female')),\n",
              " (2, User(id=2, age=25, social_contacts=500, gender='female')),\n",
              " (3, User(id=3, age=33, social_contacts=800, gender='female'))]"
            ]
          },
          "metadata": {},
          "execution_count": 7
        }
      ]
    },
    {
      "cell_type": "code",
      "metadata": {
        "id": "YB8orgPSZs8M"
      },
      "source": [
        "#Функция разворачивает вложенную итерируемую структуру в плоский итератор\n",
        "def flatten(nested_iterable):\n",
        "  for iterable in nested_iterable:\n",
        "    for element in iterable:\n",
        "      yield element"
      ],
      "execution_count": 8,
      "outputs": []
    },
    {
      "cell_type": "code",
      "metadata": {
        "id": "74oyvDLaRmd5",
        "colab": {
          "base_uri": "https://localhost:8080/"
        },
        "outputId": "bd0cfc01-260f-4009-f4a8-08bba154bc93"
      },
      "source": [
        "map_output = flatten(map(lambda x: MAP(*x), RECORDREADER()))\n",
        "map_output = list(map_output) # materialize\n",
        "map_output"
      ],
      "execution_count": 9,
      "outputs": [
        {
          "output_type": "execute_result",
          "data": {
            "text/plain": [
              "[(25, User(id=1, age=25, social_contacts=240, gender='female')),\n",
              " (25, User(id=2, age=25, social_contacts=500, gender='female')),\n",
              " (33, User(id=3, age=33, social_contacts=800, gender='female'))]"
            ]
          },
          "metadata": {},
          "execution_count": 9
        }
      ]
    },
    {
      "cell_type": "code",
      "metadata": {
        "id": "8ncYDJ3-VzDn"
      },
      "source": [
        "def groupbykey(iterable):\n",
        "  t = {}\n",
        "  for (k2, v2) in iterable:\n",
        "    t[k2] = t.get(k2, []) + [v2]\n",
        "  return t.items()"
      ],
      "execution_count": 10,
      "outputs": []
    },
    {
      "cell_type": "code",
      "metadata": {
        "id": "cKzY_6COWOA2",
        "colab": {
          "base_uri": "https://localhost:8080/"
        },
        "outputId": "ad565175-3e21-4bcd-ce44-204caeb67a74"
      },
      "source": [
        "shuffle_output = groupbykey(map_output)\n",
        "shuffle_output = list(shuffle_output)\n",
        "shuffle_output"
      ],
      "execution_count": 11,
      "outputs": [
        {
          "output_type": "execute_result",
          "data": {
            "text/plain": [
              "[(25,\n",
              "  [User(id=1, age=25, social_contacts=240, gender='female'),\n",
              "   User(id=2, age=25, social_contacts=500, gender='female')]),\n",
              " (33, [User(id=3, age=33, social_contacts=800, gender='female')])]"
            ]
          },
          "metadata": {},
          "execution_count": 11
        }
      ]
    },
    {
      "cell_type": "code",
      "metadata": {
        "id": "NlA7lkDDYL0t",
        "colab": {
          "base_uri": "https://localhost:8080/"
        },
        "outputId": "51216df2-e2fa-4036-85d0-240a08cbf9c8"
      },
      "source": [
        "#Среднее число соц. контактов для каждой группы возрастов\n",
        "reduce_output = flatten(map(lambda x: REDUCE(*x), shuffle_output))\n",
        "reduce_output = list(reduce_output)\n",
        "reduce_output"
      ],
      "execution_count": 12,
      "outputs": [
        {
          "output_type": "execute_result",
          "data": {
            "text/plain": [
              "[(25, 370.0), (33, 800.0)]"
            ]
          },
          "metadata": {},
          "execution_count": 12
        }
      ]
    },
    {
      "cell_type": "markdown",
      "metadata": {
        "id": "xf6qhHEtd6bI"
      },
      "source": [
        "Все действия одним конвейером!"
      ]
    },
    {
      "cell_type": "code",
      "metadata": {
        "id": "dZaQGYxCdpw5",
        "colab": {
          "base_uri": "https://localhost:8080/"
        },
        "outputId": "b2ea805d-3044-4321-bd53-48bf84bf6b3c"
      },
      "source": [
        "list(flatten(map(lambda x: REDUCE(*x), groupbykey(flatten(map(lambda x: MAP(*x), RECORDREADER()))))))"
      ],
      "execution_count": 13,
      "outputs": [
        {
          "output_type": "execute_result",
          "data": {
            "text/plain": [
              "[(25, 370.0), (33, 800.0)]"
            ]
          },
          "metadata": {},
          "execution_count": 13
        }
      ]
    },
    {
      "cell_type": "markdown",
      "metadata": {
        "id": "Vq3EWRIpwSiJ"
      },
      "source": [
        "# **MapReduce**\n",
        "Выделим общую для всех пользователей часть системы в отдельную функцию высшего порядка. Это наиболее простая модель MapReduce, без учёта распределённого хранения данных.\n",
        "\n",
        "Пользователь для решения своей задачи реализует RECORDREADER, MAP, REDUCE."
      ]
    },
    {
      "cell_type": "code",
      "metadata": {
        "id": "V1PZeQMwwVjc"
      },
      "source": [
        "def flatten(nested_iterable):\n",
        "  for iterable in nested_iterable:\n",
        "    for element in iterable:\n",
        "      yield element\n",
        "\n",
        "def groupbykey(iterable):\n",
        "  t = {}\n",
        "  for (k2, v2) in iterable:\n",
        "    t[k2] = t.get(k2, []) + [v2]\n",
        "  return t.items()\n",
        "\n",
        "def MapReduce(RECORDREADER, MAP, REDUCE):\n",
        "  return flatten(map(lambda x: REDUCE(*x), groupbykey(flatten(map(lambda x: MAP(*x), RECORDREADER())))))"
      ],
      "execution_count": 14,
      "outputs": []
    },
    {
      "cell_type": "markdown",
      "metadata": {
        "id": "iFIVrimep678"
      },
      "source": [
        "## Спецификация MapReduce\n",
        "\n",
        "\n",
        "\n",
        "```\n",
        "f (k1, v1) -> (k2,v2)*\n",
        "g (k2, v2*) -> (k3,v3)*\n",
        "\n",
        "mapreduce ((k1,v1)*) -> (k3,v3)*\n",
        "groupby ((k2,v2)*) -> (k2,v2*)*\n",
        "flatten (e2**) -> e2*\n",
        "\n",
        "mapreduce .map(f).flatten.groupby(k2).map(g).flatten\n",
        "```\n",
        "\n",
        "\n"
      ]
    },
    {
      "cell_type": "markdown",
      "metadata": {
        "id": "QtTFyqke3KGe"
      },
      "source": [
        "# Примеры"
      ]
    },
    {
      "cell_type": "markdown",
      "metadata": {
        "id": "BNhh5763w5Vn"
      },
      "source": [
        "## SQL"
      ]
    },
    {
      "cell_type": "code",
      "metadata": {
        "id": "QkyurnvGxBGk",
        "colab": {
          "base_uri": "https://localhost:8080/"
        },
        "outputId": "d01f3a4e-06a3-4b98-c674-a3ba3026ae86"
      },
      "source": [
        "from typing import NamedTuple # requires python 3.6+\n",
        "from typing import Iterator\n",
        "\n",
        "class User(NamedTuple):\n",
        "  id: int\n",
        "  age: str\n",
        "  social_contacts: int\n",
        "  gender: str\n",
        "\n",
        "input_collection = [\n",
        "    User(id=0, age=55, gender='male', social_contacts=20),\n",
        "    User(id=1, age=25, gender='female', social_contacts=240),\n",
        "    User(id=2, age=25, gender='female', social_contacts=500),\n",
        "    User(id=3, age=33, gender='female', social_contacts=800)\n",
        "]\n",
        "\n",
        "def MAP(_, row:NamedTuple):\n",
        "  if (row.gender == 'female'):\n",
        "    yield (row.age, row)\n",
        "\n",
        "def REDUCE(age:str, rows:Iterator[NamedTuple]):\n",
        "  sum = 0\n",
        "  count = 0\n",
        "  for row in rows:\n",
        "    sum += row.social_contacts\n",
        "    count += 1\n",
        "  if (count > 0):\n",
        "    yield (age, sum/count)\n",
        "  else:\n",
        "    yield (age, 0)\n",
        "\n",
        "def RECORDREADER():\n",
        "  return [(u.id, u) for u in input_collection]\n",
        "\n",
        "output = MapReduce(RECORDREADER, MAP, REDUCE)\n",
        "output = list(output)\n",
        "output"
      ],
      "execution_count": 15,
      "outputs": [
        {
          "output_type": "execute_result",
          "data": {
            "text/plain": [
              "[(25, 370.0), (33, 800.0)]"
            ]
          },
          "metadata": {},
          "execution_count": 15
        }
      ]
    },
    {
      "cell_type": "markdown",
      "metadata": {
        "id": "kNKYIeerx0nY"
      },
      "source": [
        "## Matrix-Vector multiplication"
      ]
    },
    {
      "cell_type": "code",
      "metadata": {
        "id": "rwcntRcCyi1V",
        "colab": {
          "base_uri": "https://localhost:8080/"
        },
        "outputId": "a24defba-75fc-491b-ca55-1121c20a0191"
      },
      "source": [
        "from typing import Iterator\n",
        "import numpy as np\n",
        "\n",
        "mat = np.ones((5,4))\n",
        "vec = np.random.rand(4) # in-memory vector in all map tasks\n",
        "\n",
        "def MAP(coordinates:(int, int), value:int):\n",
        "  i, j = coordinates\n",
        "  yield (i, value*vec[j])\n",
        "\n",
        "def REDUCE(i:int, products:Iterator[NamedTuple]):\n",
        "  sum = 0\n",
        "  for p in products:\n",
        "    sum += p\n",
        "  yield (i, sum)\n",
        "\n",
        "def RECORDREADER():\n",
        "  for i in range(mat.shape[0]):\n",
        "    for j in range(mat.shape[1]):\n",
        "      yield ((i, j), mat[i,j])\n",
        "\n",
        "output = MapReduce(RECORDREADER, MAP, REDUCE)\n",
        "output = list(output)\n",
        "output"
      ],
      "execution_count": 16,
      "outputs": [
        {
          "output_type": "execute_result",
          "data": {
            "text/plain": [
              "[(0, 2.526197406579079),\n",
              " (1, 2.526197406579079),\n",
              " (2, 2.526197406579079),\n",
              " (3, 2.526197406579079),\n",
              " (4, 2.526197406579079)]"
            ]
          },
          "metadata": {},
          "execution_count": 16
        }
      ]
    },
    {
      "cell_type": "markdown",
      "metadata": {
        "id": "ruZREYdi2o4O"
      },
      "source": [
        "## Inverted index"
      ]
    },
    {
      "cell_type": "code",
      "metadata": {
        "id": "vt9H9Alf3TYv",
        "colab": {
          "base_uri": "https://localhost:8080/"
        },
        "outputId": "e65bc7ef-aafb-488c-b9e2-419f35f54420"
      },
      "source": [
        "from typing import Iterator\n",
        "\n",
        "d1 = \"it is what it is\"\n",
        "d2 = \"what is it\"\n",
        "d3 = \"it is a banana\"\n",
        "documents = [d1, d2, d3]\n",
        "\n",
        "def RECORDREADER():\n",
        "  for (docid, document) in enumerate(documents):\n",
        "    yield (\"{}\".format(docid), document)\n",
        "\n",
        "def MAP(docId:str, body:str):\n",
        "  for word in set(body.split(' ')):\n",
        "    yield (word, docId)\n",
        "\n",
        "def REDUCE(word:str, docIds:Iterator[str]):\n",
        "  yield (word, sorted(docIds))\n",
        "\n",
        "output = MapReduce(RECORDREADER, MAP, REDUCE)\n",
        "output = list(output)\n",
        "output"
      ],
      "execution_count": 17,
      "outputs": [
        {
          "output_type": "execute_result",
          "data": {
            "text/plain": [
              "[('it', ['0', '1', '2']),\n",
              " ('what', ['0', '1']),\n",
              " ('is', ['0', '1', '2']),\n",
              " ('banana', ['2']),\n",
              " ('a', ['2'])]"
            ]
          },
          "metadata": {},
          "execution_count": 17
        }
      ]
    },
    {
      "cell_type": "markdown",
      "metadata": {
        "id": "R7az-6DA6qr2"
      },
      "source": [
        "## WordCount"
      ]
    },
    {
      "cell_type": "code",
      "metadata": {
        "id": "dN-nbtgG6uYG",
        "colab": {
          "base_uri": "https://localhost:8080/"
        },
        "outputId": "3bd23a86-b553-4a97-80ac-e651922f99fc"
      },
      "source": [
        "from typing import Iterator\n",
        "\n",
        "d1 = \"\"\"\n",
        "it is what it is\n",
        "it is what it is\n",
        "it is what it is\"\"\"\n",
        "d2 = \"\"\"\n",
        "what is it\n",
        "what is it\"\"\"\n",
        "d3 = \"\"\"\n",
        "it is a banana\"\"\"\n",
        "documents = [d1, d2, d3]\n",
        "\n",
        "def RECORDREADER():\n",
        "  for (docid, document) in enumerate(documents):\n",
        "    for (lineid, line) in enumerate(document.split('\\n')):\n",
        "      yield (\"{}:{}\".format(docid,lineid), line)\n",
        "\n",
        "def MAP(docId:str, line:str):\n",
        "  for word in line.split(\" \"):\n",
        "    yield (word, 1)\n",
        "\n",
        "def REDUCE(word:str, counts:Iterator[int]):\n",
        "  sum = 0\n",
        "  for c in counts:\n",
        "    sum += c\n",
        "  yield (word, sum)\n",
        "\n",
        "output = MapReduce(RECORDREADER, MAP, REDUCE)\n",
        "output = list(output)\n",
        "output"
      ],
      "execution_count": 18,
      "outputs": [
        {
          "output_type": "execute_result",
          "data": {
            "text/plain": [
              "[('', 3), ('it', 9), ('is', 9), ('what', 5), ('a', 1), ('banana', 1)]"
            ]
          },
          "metadata": {},
          "execution_count": 18
        }
      ]
    },
    {
      "cell_type": "markdown",
      "metadata": {
        "id": "h-jRAcYCAkkk"
      },
      "source": [
        "# MapReduce Distributed\n",
        "\n",
        "Добавляется в модель фабрика RECORDREARER-ов --- INPUTFORMAT, функция распределения промежуточных результатов по партициям PARTITIONER, и функция COMBINER для частичной аггрегации промежуточных результатов до распределения по новым партициям."
      ]
    },
    {
      "cell_type": "code",
      "metadata": {
        "id": "nw-b-xJsApgW"
      },
      "source": [
        "def flatten(nested_iterable):\n",
        "  for iterable in nested_iterable:\n",
        "    for element in iterable:\n",
        "      yield element\n",
        "\n",
        "def groupbykey(iterable):\n",
        "  t = {}\n",
        "  for (k2, v2) in iterable:\n",
        "    t[k2] = t.get(k2, []) + [v2]\n",
        "  return t.items()\n",
        "\n",
        "def groupbykey_distributed(map_partitions, PARTITIONER):\n",
        "  global reducers\n",
        "  partitions = [dict() for _ in range(reducers)]\n",
        "  for map_partition in map_partitions:\n",
        "    for (k2, v2) in map_partition:\n",
        "      p = partitions[PARTITIONER(k2)]\n",
        "      p[k2] = p.get(k2, []) + [v2]\n",
        "  return [(partition_id, sorted(partition.items(), key=lambda x: x[0])) for (partition_id, partition) in enumerate(partitions)]\n",
        "\n",
        "def PARTITIONER(obj):\n",
        "  global reducers\n",
        "  return hash(obj) % reducers\n",
        "\n",
        "def MapReduceDistributed(INPUTFORMAT, MAP, REDUCE, PARTITIONER=PARTITIONER, COMBINER=None):\n",
        "  map_partitions = map(lambda record_reader: flatten(map(lambda k1v1: MAP(*k1v1), record_reader)), INPUTFORMAT())\n",
        "  if COMBINER != None:\n",
        "    map_partitions = map(lambda map_partition: flatten(map(lambda k2v2: COMBINER(*k2v2), groupbykey(map_partition))), map_partitions)\n",
        "  reduce_partitions = groupbykey_distributed(map_partitions, PARTITIONER) # shuffle\n",
        "  reduce_outputs = map(lambda reduce_partition: (reduce_partition[0], flatten(map(lambda reduce_input_group: REDUCE(*reduce_input_group), reduce_partition[1]))), reduce_partitions)\n",
        "\n",
        "  print(\"{} key-value pairs were sent over a network.\".format(sum([len(vs) for (k,vs) in flatten([partition for (partition_id, partition) in reduce_partitions])])))\n",
        "  return reduce_outputs"
      ],
      "execution_count": 19,
      "outputs": []
    },
    {
      "cell_type": "markdown",
      "metadata": {
        "id": "kxirlf3XqZxY"
      },
      "source": [
        "## Спецификация MapReduce Distributed\n",
        "\n",
        "\n",
        "```\n",
        "f (k1, v1) -> (k2,v2)*\n",
        "g (k2, v2*) -> (k3,v3)*\n",
        "\n",
        "e1 (k1, v1)\n",
        "e2 (k2, v2)\n",
        "partition1 (k2, v2)*\n",
        "partition2 (k2, v2*)*\n",
        "\n",
        "flatmap (e1->e2*, e1*) -> partition1*\n",
        "groupby (partition1*) -> partition2*\n",
        "\n",
        "mapreduce ((k1,v1)*) -> (k3,v3)*\n",
        "mapreduce .flatmap(f).groupby(k2).flatmap(g)\n",
        "```\n",
        "\n"
      ]
    },
    {
      "cell_type": "markdown",
      "metadata": {
        "id": "CWYw_CpbbY3C"
      },
      "source": [
        "## WordCount"
      ]
    },
    {
      "cell_type": "code",
      "metadata": {
        "id": "uR_zfGFkMZlp",
        "colab": {
          "base_uri": "https://localhost:8080/"
        },
        "outputId": "cb275ffa-664d-442c-b66a-124b5b3097ca"
      },
      "source": [
        "from typing import Iterator\n",
        "import numpy as np\n",
        "\n",
        "d1 = \"\"\"\n",
        "it is what it is\n",
        "it is what it is\n",
        "it is what it is\"\"\"\n",
        "d2 = \"\"\"\n",
        "what is it\n",
        "what is it\"\"\"\n",
        "d3 = \"\"\"\n",
        "it is a banana\"\"\"\n",
        "documents = [d1, d2, d3, d1, d2, d3]\n",
        "\n",
        "maps = 3\n",
        "reducers = 2\n",
        "\n",
        "def INPUTFORMAT():\n",
        "  global maps\n",
        "\n",
        "  def RECORDREADER(split):\n",
        "    for (docid, document) in enumerate(split):\n",
        "      for (lineid, line) in enumerate(document.split('\\n')):\n",
        "        yield (\"{}:{}\".format(docid,lineid), line)\n",
        "\n",
        "  split_size =  int(np.ceil(len(documents)/maps))\n",
        "  for i in range(0, len(documents), split_size):\n",
        "    yield RECORDREADER(documents[i:i+split_size])\n",
        "\n",
        "def MAP(docId:str, line:str):\n",
        "  for word in line.split(\" \"):\n",
        "    yield (word, 1)\n",
        "\n",
        "def REDUCE(word:str, counts:Iterator[int]):\n",
        "  sum = 0\n",
        "  for c in counts:\n",
        "    sum += c\n",
        "  yield (word, sum)\n",
        "\n",
        "# try to set COMBINER=REDUCER and look at the number of values sent over the network\n",
        "partitioned_output = MapReduceDistributed(INPUTFORMAT, MAP, REDUCE, COMBINER=None)\n",
        "partitioned_output = [(partition_id, list(partition)) for (partition_id, partition) in partitioned_output]\n",
        "partitioned_output"
      ],
      "execution_count": 20,
      "outputs": [
        {
          "output_type": "stream",
          "name": "stdout",
          "text": [
            "56 key-value pairs were sent over a network.\n"
          ]
        },
        {
          "output_type": "execute_result",
          "data": {
            "text/plain": [
              "[(0, [('', 6), ('banana', 2), ('is', 18)]),\n",
              " (1, [('a', 2), ('it', 18), ('what', 10)])]"
            ]
          },
          "metadata": {},
          "execution_count": 20
        }
      ]
    },
    {
      "cell_type": "markdown",
      "metadata": {
        "id": "gCJGx8IQ87xS"
      },
      "source": [
        "## TeraSort"
      ]
    },
    {
      "cell_type": "code",
      "metadata": {
        "id": "P2v8v1v_8_YR",
        "colab": {
          "base_uri": "https://localhost:8080/"
        },
        "outputId": "957d8aed-87aa-4a90-aacf-c9878c5467f5"
      },
      "source": [
        "import numpy as np\n",
        "\n",
        "input_values = np.random.rand(30)\n",
        "maps = 3\n",
        "reducers = 2\n",
        "min_value = 0.0\n",
        "max_value = 1.0\n",
        "\n",
        "def INPUTFORMAT():\n",
        "  global maps\n",
        "\n",
        "  def RECORDREADER(split):\n",
        "    for value in split:\n",
        "        yield (value, None)\n",
        "\n",
        "  split_size =  int(np.ceil(len(input_values)/maps))\n",
        "  for i in range(0, len(input_values), split_size):\n",
        "    yield RECORDREADER(input_values[i:i+split_size])\n",
        "\n",
        "def MAP(value:int, _):\n",
        "  yield (value, None)\n",
        "\n",
        "def PARTITIONER(key):\n",
        "  global reducers\n",
        "  global max_value\n",
        "  global min_value\n",
        "  bucket_size = (max_value-min_value)/reducers\n",
        "  bucket_id = 0\n",
        "  while((key>(bucket_id+1)*bucket_size) and ((bucket_id+1)*bucket_size<max_value)):\n",
        "    bucket_id += 1\n",
        "  return bucket_id\n",
        "\n",
        "def REDUCE(value:int, _):\n",
        "  yield (None,value)\n",
        "\n",
        "partitioned_output = MapReduceDistributed(INPUTFORMAT, MAP, REDUCE, COMBINER=None, PARTITIONER=PARTITIONER)\n",
        "partitioned_output = [(partition_id, list(partition)) for (partition_id, partition) in partitioned_output]\n",
        "partitioned_output"
      ],
      "execution_count": 21,
      "outputs": [
        {
          "output_type": "stream",
          "name": "stdout",
          "text": [
            "30 key-value pairs were sent over a network.\n"
          ]
        },
        {
          "output_type": "execute_result",
          "data": {
            "text/plain": [
              "[(0,\n",
              "  [(None, 0.031216556673922535),\n",
              "   (None, 0.09453408781038397),\n",
              "   (None, 0.12511323447876743),\n",
              "   (None, 0.12579813463751333),\n",
              "   (None, 0.1425213347593055),\n",
              "   (None, 0.14416645629430092),\n",
              "   (None, 0.2195804564956244),\n",
              "   (None, 0.22174562691663158),\n",
              "   (None, 0.232515523348782),\n",
              "   (None, 0.24395702642817496),\n",
              "   (None, 0.24934930103690633),\n",
              "   (None, 0.24945705419674125),\n",
              "   (None, 0.2506306975401358),\n",
              "   (None, 0.2906836904285658),\n",
              "   (None, 0.3148948380315676),\n",
              "   (None, 0.37372643460358457),\n",
              "   (None, 0.4863965625656025),\n",
              "   (None, 0.49592666856002454)]),\n",
              " (1,\n",
              "  [(None, 0.5081101948221368),\n",
              "   (None, 0.5147338418033647),\n",
              "   (None, 0.5207434627736146),\n",
              "   (None, 0.5248388514199077),\n",
              "   (None, 0.6691562099043395),\n",
              "   (None, 0.6868137375078842),\n",
              "   (None, 0.7184420602661447),\n",
              "   (None, 0.7209444146699195),\n",
              "   (None, 0.7303666752361283),\n",
              "   (None, 0.8454457579009479),\n",
              "   (None, 0.8950828505858539),\n",
              "   (None, 0.9847950752311518)])]"
            ]
          },
          "metadata": {},
          "execution_count": 21
        }
      ]
    },
    {
      "cell_type": "code",
      "metadata": {
        "id": "MQhoJaVZI93G"
      },
      "source": [],
      "execution_count": null,
      "outputs": []
    },
    {
      "cell_type": "markdown",
      "metadata": {
        "id": "Iy65YJTH99iT"
      },
      "source": [
        "# Упражнения\n",
        "Упражнения взяты из Rajaraman A., Ullman J. D. Mining of massive datasets. – Cambridge University Press, 2011.\n",
        "\n",
        "\n",
        "Для выполнения заданий переопределите функции RECORDREADER, MAP, REDUCE. Для модели распределённой системы может потребоваться переопределение функций PARTITION и COMBINER."
      ]
    },
    {
      "cell_type": "markdown",
      "metadata": {
        "id": "cfvAeZm3S8S8"
      },
      "source": [
        "### Максимальное значение ряда\n",
        "\n",
        "Разработайте MapReduce алгоритм, который находит максимальное число входного списка чисел."
      ]
    },
    {
      "cell_type": "code",
      "metadata": {
        "id": "3GRA1JR-Tkbg",
        "colab": {
          "base_uri": "https://localhost:8080/"
        },
        "outputId": "fd964246-f9b1-411a-fbad-11897d98e24f"
      },
      "source": [
        "def get_user_data():\n",
        "    \"\"\"Генерирует данные для MapReduce.\"\"\"\n",
        "    return [(user.id, user) for user in input_collection]\n",
        "\n",
        "def map_user_contacts(_, user_data: NamedTuple):\n",
        "    \"\"\"Преобразует данные пользователя.\"\"\"\n",
        "    yield (\"\", user_data)\n",
        "\n",
        "def reduce_max_contacts(_,user_data: Iterator[NamedTuple]):\n",
        "    \"\"\"Находит пользователя с максимальным количеством контактов.\"\"\"\n",
        "    max_contacts = 0\n",
        "    most_connected_user = None\n",
        "    for user_data in user_data:\n",
        "        if user_data.social_contacts > max_contacts:\n",
        "            max_contacts = user_data.social_contacts\n",
        "            most_connected_user = user_data\n",
        "    yield most_connected_user\n",
        "\n",
        "result = list(MapReduce(get_user_data, map_user_contacts, reduce_max_contacts))\n",
        "print(result)\n",
        "\n"
      ],
      "execution_count": 22,
      "outputs": [
        {
          "output_type": "stream",
          "name": "stdout",
          "text": [
            "[User(id=3, age=33, social_contacts=800, gender='female')]\n"
          ]
        }
      ]
    },
    {
      "cell_type": "markdown",
      "metadata": {
        "id": "k86bXnqZTk-U"
      },
      "source": [
        "### Арифметическое среднее\n",
        "\n",
        "Разработайте MapReduce алгоритм, который находит арифметическое среднее.\n",
        "\n",
        "$$\\overline{X} = \\frac{1}{n}\\sum_{i=0}^{n} x_i$$\n"
      ]
    },
    {
      "cell_type": "code",
      "metadata": {
        "id": "MPoY5pkfUNZf",
        "colab": {
          "base_uri": "https://localhost:8080/"
        },
        "outputId": "18ff0730-3b88-451d-bda2-cd42105e4919"
      },
      "source": [
        "def get_numbers():\n",
        "    \"\"\"Генерирует данные для MapReduce.\"\"\"\n",
        "    return [(user.id, user) for user in input_collection]\n",
        "\n",
        "def map_numbers(_, number: NamedTuple):\n",
        "    \"\"\"Преобразует данные пользователя.\"\"\"\n",
        "    yield (\"\", number)\n",
        "\n",
        "def reduce_calculate_average(_, numbers: Iterator[NamedTuple]):\n",
        "    \"\"\"Вычисляет среднее значение чисел.\"\"\"\n",
        "    total = 0\n",
        "    n=0\n",
        "    for number in numbers:\n",
        "      total+=number.social_contacts\n",
        "      n+=1\n",
        "    average = total / n if n > 0 else 0\n",
        "    return ('AVG', average)\n",
        "\n",
        "result = list(MapReduce(get_numbers, map_numbers, reduce_calculate_average))\n",
        "print(result)\n"
      ],
      "execution_count": 23,
      "outputs": [
        {
          "output_type": "stream",
          "name": "stdout",
          "text": [
            "['AVG', 390.0]\n"
          ]
        }
      ]
    },
    {
      "cell_type": "markdown",
      "metadata": {
        "id": "xanzszhsIlLe"
      },
      "source": [
        "### GroupByKey на основе сортировки\n",
        "\n",
        "Реализуйте groupByKey на основе сортировки, проверьте его работу на примерах"
      ]
    },
    {
      "cell_type": "code",
      "metadata": {
        "id": "hQPn3USsIkEC",
        "colab": {
          "base_uri": "https://localhost:8080/"
        },
        "outputId": "7a0db3b6-ac24-499e-b92f-dbba1353e61a"
      },
      "source": [
        "def group_by_key(items):\n",
        "    \"\"\"Группирует элементы по ключу.\"\"\"\n",
        "    items = sorted(items, key=lambda e: e[0])  # Сортировка по первому элементу (ключу)\n",
        "    grouped_items = {}\n",
        "    for key1, group in items:\n",
        "      group[key1]=group.get(key1, [])+[group]\n",
        "    return grouped_items.items()\n",
        "\n",
        "result = list(MapReduce(get_user_data, map_user_contacts, reduce_max_contacts))\n",
        "print(result)\n",
        "\n",
        "result = list(MapReduce(get_numbers, map_numbers, reduce_calculate_average))\n",
        "print(result)"
      ],
      "execution_count": 24,
      "outputs": [
        {
          "output_type": "stream",
          "name": "stdout",
          "text": [
            "[User(id=3, age=33, social_contacts=800, gender='female')]\n",
            "['AVG', 390.0]\n"
          ]
        }
      ]
    },
    {
      "cell_type": "markdown",
      "metadata": {
        "id": "5SgEjCZyGnu6"
      },
      "source": [
        "### Drop duplicates (set construction, unique elements, distinct)\n",
        "\n",
        "Реализуйте распределённую операцию исключения дубликатов"
      ]
    },
    {
      "cell_type": "code",
      "metadata": {
        "id": "okjbyApjGhMt",
        "colab": {
          "base_uri": "https://localhost:8080/"
        },
        "outputId": "d3e2e9cf-87cd-413c-b04e-866c8ca435da"
      },
      "source": [
        "from typing import Iterator, Tuple\n",
        "import numpy as np\n",
        "from collections import defaultdict\n",
        "from math import log\n",
        "\n",
        "documents = [\n",
        "    \"\"\"it is what it is\n",
        "it is what it is\n",
        "it is what it is\"\"\",\n",
        "    \"\"\"what is it\n",
        "what is it\"\"\",\n",
        "    \"\"\"it is a user\"\"\",\n",
        "    \"\"\"it is what it is\n",
        "it is what it is\n",
        "it is what it is\"\"\",\n",
        "    \"\"\"what is it\n",
        "what is it\"\"\",\n",
        "    \"\"\"it is a user\"\"\"\n",
        "]\n",
        "\n",
        "maps = 3\n",
        "reducers = 2\n",
        "\n",
        "\n",
        "def data_splitter(documents, num_splits):\n",
        "    \"\"\"Разделяет данные на части для Map-задач.\"\"\"\n",
        "    split_size = int(np.ceil(len(documents) / num_splits))\n",
        "    for i in range(0, len(documents), split_size):\n",
        "        yield documents[i:i + split_size]\n",
        "\n",
        "\n",
        "def mapper(doc_id: int, line: str) -> Iterator[Tuple[str, Tuple[int, int]]]:\n",
        "    \"\"\"Map-функция: подсчитывает частоту слов в каждой строке.\"\"\"\n",
        "    for word in line.lower().split():\n",
        "        word = word.strip('.,!?\"').replace(\"'s\", \"\")  # простая очистка текста\n",
        "        yield (word, (doc_id, 1))\n",
        "\n",
        "\n",
        "def reducer(key: str, values: Iterator[Tuple[int, int]]) -> Iterator[Tuple[str, dict]]:\n",
        "    \"\"\"Reduce-функция: подсчитывает TF-IDF.\"\"\"\n",
        "    doc_counts = defaultdict(int)\n",
        "    for doc_id, count in values:\n",
        "        doc_counts[doc_id] += count\n",
        "\n",
        "    df = len(doc_counts)  # количество документов, где встречается слово\n",
        "    num_docs = len(documents)\n",
        "    idf = log(num_docs / df) if df > 0 else 0  # Обработка случая, когда df = 0\n",
        "\n",
        "    for doc_id, count in doc_counts.items():\n",
        "        tf = count / sum(doc_counts.values()) if sum(doc_counts.values()) > 0 else 0  # Обработка деления на ноль\n",
        "        tfidf = tf * idf\n",
        "        yield (key, {doc_id: tfidf})\n",
        "\n",
        "\n",
        "def simple_mapreduce(mapper_func, reducer_func, data):\n",
        "    \"\"\"Выполняет упрощенную MapReduce операцию.\"\"\"\n",
        "    mapped_data = defaultdict(list)\n",
        "    sent_count = 0\n",
        "    for doc_index, doc_list in enumerate(data):\n",
        "        for doc_id, doc in enumerate(doc_list):\n",
        "            for line in doc.split('\\n'):\n",
        "                for k, v in mapper_func(doc_index * len(doc_list) + doc_id, line):\n",
        "                    mapped_data[k].append(v)\n",
        "                    sent_count += 1\n",
        "\n",
        "    reduced_data = {}\n",
        "    for key, value in mapped_data.items():\n",
        "        reduced_data[key] = list(reducer_func(key, iter(value)))\n",
        "\n",
        "    print(f\"{sent_count} key-value pairs were sent over a network.\")\n",
        "    return reduced_data\n",
        "\n",
        "\n",
        "# Пример использования:\n",
        "split_data = list(data_splitter(documents, maps))\n",
        "result = simple_mapreduce(mapper, reducer, split_data)\n",
        "print(result)\n"
      ],
      "execution_count": 25,
      "outputs": [
        {
          "output_type": "stream",
          "name": "stdout",
          "text": [
            "50 key-value pairs were sent over a network.\n",
            "{'it': [('it', {0: 0.0}), ('it', {1: 0.0}), ('it', {2: 0.0}), ('it', {3: 0.0}), ('it', {4: 0.0}), ('it', {5: 0.0})], 'is': [('is', {0: 0.0}), ('is', {1: 0.0}), ('is', {2: 0.0}), ('is', {3: 0.0}), ('is', {4: 0.0}), ('is', {5: 0.0})], 'what': [('what', {0: 0.12163953243244931}), ('what', {1: 0.08109302162163289}), ('what', {3: 0.12163953243244931}), ('what', {4: 0.08109302162163289})], 'a': [('a', {2: 0.5493061443340549}), ('a', {5: 0.5493061443340549})], 'user': [('user', {2: 0.5493061443340549}), ('user', {5: 0.5493061443340549})]}\n"
          ]
        }
      ]
    },
    {
      "cell_type": "markdown",
      "metadata": {
        "id": "e7sRGoTXuJze"
      },
      "source": [
        "#Операторы реляционной алгебры\n",
        "### Selection (Выборка)\n",
        "\n",
        "**The Map Function**: Для  каждого кортежа $t \\in R$ вычисляется истинность предиката $C$. В случае истины создаётся пара ключ-значение $(t, t)$. В паре ключ и значение одинаковы, равны $t$.\n",
        "\n",
        "**The Reduce Function:** Роль функции Reduce выполняет функция идентичности, которая возвращает то же значение, что получила на вход.\n",
        "\n"
      ]
    },
    {
      "cell_type": "code",
      "metadata": {
        "id": "4nKIKe59uIfc",
        "colab": {
          "base_uri": "https://localhost:8080/"
        },
        "outputId": "9ca200c6-38c9-4686-e1ec-25c8f2263e23"
      },
      "source": [
        "def get_user_data():\n",
        "    \"\"\"Генерирует данные для MapReduce.\"\"\"\n",
        "    return [(user.id, user) for user in input_collection]\n",
        "\n",
        "def map_users(_, user_data: NamedTuple):\n",
        "    \"\"\"Отбирает данные о женщинах.\"\"\"\n",
        "    if user_data.gender == \"female\":\n",
        "        yield (user_data, user_data)\n",
        "\n",
        "def reduce_users(user_data: str, rows: Iterator[NamedTuple]):\n",
        "    \"\"\"Группирует данные о женщинах.\"\"\"\n",
        "    yield (user_data.gender, rows)\n",
        "\n",
        "result = list(MapReduce(get_user_data, map_users, reduce_users))\n",
        "print(result)\n"
      ],
      "execution_count": 26,
      "outputs": [
        {
          "output_type": "stream",
          "name": "stdout",
          "text": [
            "[('female', [User(id=1, age=25, social_contacts=240, gender='female')]), ('female', [User(id=2, age=25, social_contacts=500, gender='female')]), ('female', [User(id=3, age=33, social_contacts=800, gender='female')])]\n"
          ]
        }
      ]
    },
    {
      "cell_type": "markdown",
      "metadata": {
        "id": "w27Ca-_Ku85V"
      },
      "source": [
        "### Projection (Проекция)\n",
        "\n",
        "Проекция на множество атрибутов $S$.\n",
        "\n",
        "**The Map Function:** Для каждого кортежа $t \\in R$ создайте кортеж $t′$, исключая  из $t$ те значения, атрибуты которых не принадлежат  $S$. Верните пару $(t′, t′)$.\n",
        "\n",
        "**The Reduce Function:** Для каждого ключа $t′$, созданного любой Map задачей, вы получаете одну или несколько пар $(t′, t′)$. Reduce функция преобразует $(t′, [t′, t′, . . . , t′])$ в $(t′, t′)$, так, что для ключа $t′$ возвращается одна пара  $(t′, t′)$."
      ]
    },
    {
      "cell_type": "code",
      "metadata": {
        "id": "BEvuY4GqvhS6",
        "colab": {
          "base_uri": "https://localhost:8080/"
        },
        "outputId": "c6be3b64-6369-4dde-b9ee-4fd9d6208ccb"
      },
      "source": [
        "def map_select(_, row: NamedTuple):\n",
        "    if row.gender == \"female\":\n",
        "        yield (row, row)\n",
        "\n",
        "\n",
        "def reduce_select(row: str, rows: Iterator[NamedTuple]):\n",
        "    yield (row, rows)\n",
        "\n",
        "\n",
        "def recordreader():\n",
        "    return [(user.id, user) for user in input_collection]\n",
        "\n",
        "result = list(MapReduce(recordreader, map_select, reduce_select))\n",
        "print(result)"
      ],
      "execution_count": 27,
      "outputs": [
        {
          "output_type": "stream",
          "name": "stdout",
          "text": [
            "[(User(id=1, age=25, social_contacts=240, gender='female'), [User(id=1, age=25, social_contacts=240, gender='female')]), (User(id=2, age=25, social_contacts=500, gender='female'), [User(id=2, age=25, social_contacts=500, gender='female')]), (User(id=3, age=33, social_contacts=800, gender='female'), [User(id=3, age=33, social_contacts=800, gender='female')])]\n"
          ]
        }
      ]
    },
    {
      "cell_type": "markdown",
      "metadata": {
        "id": "7gau6lKXvn2R"
      },
      "source": [
        "### Union (Объединение)\n",
        "\n",
        "**The Map Function:** Превратите каждый входной кортеж $t$ в пару ключ-значение $(t, t)$.\n",
        "\n",
        "**The Reduce Function:** С каждым ключом $t$ будет ассоциировано одно или два значений. В обоих случаях создайте $(t, t)$ в качестве выходного значения."
      ]
    },
    {
      "cell_type": "code",
      "metadata": {
        "id": "Sns7a5agv3nw",
        "colab": {
          "base_uri": "https://localhost:8080/"
        },
        "outputId": "04533b5a-9383-488a-ea98-40db21940d83"
      },
      "source": [
        "input_collection_1 = [\n",
        "    User(id=0, age=40, gender='male', social_contacts=200),\n",
        "    User(id=1, age=35, gender='female', social_contacts=40),\n",
        "    User(id=2, age=55, gender='female', social_contacts=600),\n",
        "    User(id=2, age=32, gender='male', social_contacts=270),\n",
        "    User(id=3, age=30, gender='female', social_contacts=901)\n",
        "]\n",
        "input_collection_2 = [\n",
        "    User(id=3, age=32, gender='female', social_contacts=270),\n",
        "    User(id=4, age=46, gender='female', social_contacts=145)\n",
        "]\n",
        "\n",
        "def map_select(_, row: NamedTuple):\n",
        "        yield (row.id, row)\n",
        "\n",
        "\n",
        "def reduce_select(row: str, rows: Iterator[NamedTuple]):\n",
        "    yield (rows[0], rows[0])\n",
        "\n",
        "\n",
        "def recordreader():\n",
        "    return [(user.id, user) for user in input_collection]\n",
        "\n",
        "\n",
        "result = list(MapReduce(recordreader, map_select, reduce_select))\n",
        "print(result)\n"
      ],
      "execution_count": 28,
      "outputs": [
        {
          "output_type": "stream",
          "name": "stdout",
          "text": [
            "[(User(id=0, age=55, social_contacts=20, gender='male'), User(id=0, age=55, social_contacts=20, gender='male')), (User(id=1, age=25, social_contacts=240, gender='female'), User(id=1, age=25, social_contacts=240, gender='female')), (User(id=2, age=25, social_contacts=500, gender='female'), User(id=2, age=25, social_contacts=500, gender='female')), (User(id=3, age=33, social_contacts=800, gender='female'), User(id=3, age=33, social_contacts=800, gender='female'))]\n"
          ]
        }
      ]
    },
    {
      "cell_type": "markdown",
      "metadata": {
        "id": "dQ8TuEbjv4J8"
      },
      "source": [
        "### Intersection (Пересечение)\n",
        "\n",
        "**The Map Function:** Превратите каждый кортеж $t$ в пары ключ-значение $(t, t)$.\n",
        "\n",
        "**The Reduce Function:** Если для ключа $t$ есть список из двух элементов $[t, t]$ $-$ создайте пару $(t, t)$. Иначе, ничего не создавайте."
      ]
    },
    {
      "cell_type": "code",
      "metadata": {
        "id": "XKlBZh4IwERR",
        "colab": {
          "base_uri": "https://localhost:8080/"
        },
        "outputId": "1d17664f-f875-4814-d946-84c3619b7fef"
      },
      "source": [
        "def recordreader():\n",
        "    return [(user.id, user) for user in input_collection_1 + input_collection_2]\n",
        "\n",
        "def map_intersection(_, row: NamedTuple):\n",
        "    yield (row.id, row)\n",
        "\n",
        "def reduce_intersection(row_id: int, rows: Iterator[NamedTuple]):\n",
        "    if len(rows) == 2:\n",
        "        yield rows\n",
        "\n",
        "\n",
        "result = list(MapReduce(recordreader, map_intersection, reduce_intersection))\n",
        "print(result)"
      ],
      "execution_count": 29,
      "outputs": [
        {
          "output_type": "stream",
          "name": "stdout",
          "text": [
            "[[User(id=2, age=55, social_contacts=600, gender='female'), User(id=2, age=32, social_contacts=270, gender='male')], [User(id=3, age=30, social_contacts=901, gender='female'), User(id=3, age=32, social_contacts=270, gender='female')]]\n"
          ]
        }
      ]
    },
    {
      "cell_type": "markdown",
      "metadata": {
        "id": "AVOpqoY3wE5k"
      },
      "source": [
        "### Difference (Разница)\n",
        "\n",
        "**The Map Function:** Для кортежа $t \\in R$, создайте пару $(t, R)$, и для кортежа $t \\in S$, создайте пару $(t, S)$. Задумка заключается в том, чтобы значение пары было именем отношения $R$ or $S$, которому принадлежит кортеж (а лучше, единичный бит, по которому можно два отношения различить $R$ or $S$), а не весь набор атрибутов отношения.\n",
        "\n",
        "**The Reduce Function:** Для каждого ключа $t$, если соответствующее значение является списком $[R]$, создайте пару $(t, t)$. В иных случаях не предпринимайте действий."
      ]
    },
    {
      "cell_type": "code",
      "metadata": {
        "id": "QE_AC09lwZIZ",
        "colab": {
          "base_uri": "https://localhost:8080/"
        },
        "outputId": "a4f63f6a-354a-405e-b249-f042ac350f08"
      },
      "source": [
        "def recordreader():\n",
        "    return [(0, n) for n in input_collection_1] + [(1, k) for k in input_collection_2]\n",
        "\n",
        "def map_diff (id, user):\n",
        "  yield (user, id)\n",
        "\n",
        "def reduce_diff (user, collections):\n",
        "  if collections == [0]:\n",
        "    yield (user)\n",
        "\n",
        "result = list(MapReduce(recordreader,map_diff, reduce_diff))\n",
        "print(result)\n"
      ],
      "execution_count": 30,
      "outputs": [
        {
          "output_type": "stream",
          "name": "stdout",
          "text": [
            "[User(id=0, age=40, social_contacts=200, gender='male'), User(id=1, age=35, social_contacts=40, gender='female'), User(id=2, age=55, social_contacts=600, gender='female'), User(id=2, age=32, social_contacts=270, gender='male'), User(id=3, age=30, social_contacts=901, gender='female')]\n"
          ]
        }
      ]
    },
    {
      "cell_type": "markdown",
      "metadata": {
        "id": "j8I58V2VwhSm"
      },
      "source": [
        "### Natural Join\n",
        "\n",
        "**The Map Function:** Для каждого кортежа $(a, b)$ отношения $R$, создайте пару $(b,(R, a))$. Для каждого кортежа $(b, c)$ отношения $S$, создайте пару $(b,(S, c))$.\n",
        "\n",
        "**The Reduce Function:** Каждый ключ $b$ будет асоциирован со списком пар, которые принимают форму либо $(R, a)$, либо $(S, c)$. Создайте все пары, одни, состоящие из  первого компонента $R$, а другие, из первого компонента $S$, то есть $(R, a)$ и $(S, c)$. На выходе вы получаете последовательность пар ключ-значение из списков ключей и значений. Ключ не нужен. Каждое значение, это тройка $(a, b, c)$ такая, что $(R, a)$ и $(S, c)$ это принадлежат входному списку значений."
      ]
    },
    {
      "cell_type": "code",
      "metadata": {
        "id": "yHiuuTctw86I",
        "colab": {
          "base_uri": "https://localhost:8080/"
        },
        "outputId": "a2cb9805-5423-4b80-a6bf-d12764772179"
      },
      "source": [
        "class Person(NamedTuple):\n",
        "  id: int\n",
        "  age: str\n",
        "  gender: str\n",
        "  social_contacts: str\n",
        "  sport_type_id: int\n",
        "\n",
        "class Sportstype (NamedTuple):\n",
        "  id: int\n",
        "  type_sport: str\n",
        "\n",
        "input_collection3 = [\n",
        "    Person(id=0, age=40, gender='male', social_contacts=200, sport_type_id=3),\n",
        "    Person(id=1, age=35, gender='female', social_contacts=40, sport_type_id=30),\n",
        "    Person(id=2, age=55, gender='female', social_contacts=600, sport_type_id=1),\n",
        "    Person(id=2, age=32, gender='male', social_contacts=270, sport_type_id=30),\n",
        "    Person(id=3, age=30, gender='female', social_contacts=901, sport_type_id=0)\n",
        "]\n",
        "\n",
        "sport_collection = [\n",
        "    Sportstype (id=3, type_sport=\"Hockey\"),\n",
        "    Sportstype (id=30, type_sport=\"Tennis\"),\n",
        "    Sportstype (id=1, type_sport=\"Golf\"),\n",
        "    Sportstype (id=0, type_sport=\"Skiing\"),\n",
        "]\n",
        "\n",
        "def recordreader():\n",
        "    return [(person.sport_type_id, person) for person in input_collection3] + [(sport_type_id.id, sport_type_id) for sport_type_id in sport_collection]\n",
        "\n",
        "def map_join(sport_type_id, row):\n",
        "    yield (sport_type_id, row)\n",
        "\n",
        "def reduce_join(sport_type_id, rows):\n",
        "    people = []\n",
        "    sport_type_id = None\n",
        "\n",
        "    for row in rows:\n",
        "        if type(row) is Person:\n",
        "            people += [row]\n",
        "        else:\n",
        "            sport_type_id = row\n",
        "\n",
        "    for row in rows:\n",
        "        if type(row) is Person:\n",
        "            yield (row, row.sport_type_id, sport_type_id)\n",
        "\n",
        "result = MapReduce(recordreader, map_join, reduce_join)\n",
        "result= list(result)\n",
        "join = result\n",
        "join"
      ],
      "execution_count": 32,
      "outputs": [
        {
          "output_type": "execute_result",
          "data": {
            "text/plain": [
              "[(Person(id=0, age=40, gender='male', social_contacts=200, sport_type_id=3),\n",
              "  3,\n",
              "  Sportstype(id=3, type_sport='Hockey')),\n",
              " (Person(id=1, age=35, gender='female', social_contacts=40, sport_type_id=30),\n",
              "  30,\n",
              "  Sportstype(id=30, type_sport='Tennis')),\n",
              " (Person(id=2, age=32, gender='male', social_contacts=270, sport_type_id=30),\n",
              "  30,\n",
              "  Sportstype(id=30, type_sport='Tennis')),\n",
              " (Person(id=2, age=55, gender='female', social_contacts=600, sport_type_id=1),\n",
              "  1,\n",
              "  Sportstype(id=1, type_sport='Golf')),\n",
              " (Person(id=3, age=30, gender='female', social_contacts=901, sport_type_id=0),\n",
              "  0,\n",
              "  Sportstype(id=0, type_sport='Skiing'))]"
            ]
          },
          "metadata": {},
          "execution_count": 32
        }
      ]
    },
    {
      "cell_type": "markdown",
      "metadata": {
        "id": "kYdlr0YUxE27"
      },
      "source": [
        "### Grouping and Aggregation (Группировка и аггрегация)\n",
        "\n",
        "**The Map Function:** Для каждого кортежа $(a, b, c$) создайте пару $(a, b)$.\n",
        "\n",
        "**The Reduce Function:** Ключ представляет ту или иную группу. Примение аггрегирующую операцию $\\theta$ к списку значений $[b1, b2, . . . , bn]$ ассоциированных с ключом $a$. Возвращайте в выходной поток $(a, x)$, где $x$ результат применения  $\\theta$ к списку. Например, если $\\theta$ это $SUM$, тогда $x = b1 + b2 + · · · + bn$, а если $\\theta$ is $MAX$, тогда $x$ это максимальное из значений $b1, b2, . . . , bn$."
      ]
    },
    {
      "cell_type": "code",
      "metadata": {
        "id": "MLPckfEGxico",
        "colab": {
          "base_uri": "https://localhost:8080/"
        },
        "outputId": "9dd98467-8d57-4f7d-b39b-e0ee97137540"
      },
      "source": [
        "def record_reader():\n",
        "  return [(sport_type_id, person, sport_type) for person, sport_type_id, sport_type in join]\n",
        "\n",
        "def map_group(sport_type_id, person, sport_type):\n",
        "  yield(sport_type_id, person)\n",
        "\n",
        "def reduce_group(sport_type_id, rows):\n",
        "  yield f\"sport type id={sport_type_id} for {len(rows)} people\"\n",
        "\n",
        "result = list(MapReduce(record_reader,map_group, reduce_group))\n",
        "print(result)"
      ],
      "execution_count": 33,
      "outputs": [
        {
          "output_type": "stream",
          "name": "stdout",
          "text": [
            "['sport type id=3 for 1 people', 'sport type id=30 for 2 people', 'sport type id=1 for 1 people', 'sport type id=0 for 1 people']\n"
          ]
        }
      ]
    },
    {
      "cell_type": "markdown",
      "metadata": {
        "id": "03IffTEOJgOb"
      },
      "source": [
        "#"
      ]
    },
    {
      "cell_type": "markdown",
      "metadata": {
        "id": "IIrRgvG4RIS4"
      },
      "source": [
        "### Matrix-Vector multiplication\n",
        "\n",
        "Случай, когда вектор не помещается в памяти Map задачи\n"
      ]
    },
    {
      "cell_type": "markdown",
      "source": [],
      "metadata": {
        "id": "ajp13rCWNCiq"
      }
    },
    {
      "cell_type": "code",
      "metadata": {
        "id": "KQhDbiL3zS9r",
        "colab": {
          "base_uri": "https://localhost:8080/"
        },
        "outputId": "1317519b-79a6-47cd-ef6e-610c65f6b20b"
      },
      "source": [
        "def record_reader():\n",
        "    return [(None, m) for m in matrix]\n",
        "matrix = [\n",
        "    (3, 6, 9), (2, 4, 8), (1, 5, 7),\n",
        "    (3, 6, 9), (2, 4, 8), (1, 5, 7),\n",
        "    (3, 6, 9), (2, 4, 8), (1, 5, 79),\n",
        "]\n",
        "\n",
        "vector = [\n",
        "    (3, 6), (2, 4), (5, 7)\n",
        "]\n",
        "\n",
        "def map_matrix_vector(_, matrix_row):\n",
        "    row, col, value = matrix_row\n",
        "    for vector_col, vector_value in vector:\n",
        "        if vector_col == col:\n",
        "            yield (row, value * vector_value)\n",
        "\n",
        "\n",
        "def reduce_matrix_vector(row, values: Iterator[int]):\n",
        "    yield (row, sum(values))\n",
        "\n",
        "result = list(MapReduce(record_reader, map_matrix_vector, reduce_matrix_vector))\n",
        "print(result)\n",
        "\n",
        "\n"
      ],
      "execution_count": 34,
      "outputs": [
        {
          "output_type": "stream",
          "name": "stdout",
          "text": [
            "[(1, 651)]\n"
          ]
        }
      ]
    },
    {
      "cell_type": "markdown",
      "metadata": {
        "id": "GIo2t7nNxvA9"
      },
      "source": [
        "## Matrix multiplication (Перемножение матриц)\n",
        "\n",
        "Если у нас есть матрица $M$ с элементами $m_{ij}$ в строке $i$ и столбце $j$, и матрица $N$ с элементами $n_{jk}$ в строке $j$ и столбце $k$, тогда их произведение $P = MN$ есть матрица $P$ с элементами $p_{ik}$ в строке $i$ и столбце $k$, где\n",
        "\n",
        "$$p_{ik} =\\sum_{j} m_{ij}n_{jk}$$\n",
        "\n",
        "Необходимым требованием является одинаковое количество столбцов в $M$ и строк в $N$, чтобы операция суммирования по  $j$ была осмысленной. Мы можем размышлять о матрице, как об отношении с тремя атрибутами: номер строки, номер столбца, само значение. Таким образом матрица $M$ предстваляется как отношение $ M(I, J, V )$, с кортежами $(i, j, m_{ij})$, и, аналогично, матрица $N$ представляется как отношение $N(J, K, W)$, с кортежами $(j, k, n_{jk})$. Так как большие матрицы как правило разреженные (большинство значений равно 0), и так как мы можем нулевыми значениями пренебречь (не хранить), такое реляционное представление достаточно эффективно для больших матриц. Однако, возможно, что координаты $i$, $j$, и $k$ неявно закодированы в смещение позиции элемента относительно начала файла, вместо явного хранения. Тогда, функция Map (или Reader) должна быть разработана таким образом, чтобы реконструировать компоненты $I$, $J$, и $K$ кортежей из смещения.\n",
        "\n",
        "Произведение $MN$ это фактически join, за которым следуют группировка по ключу и аггрегация. Таким образом join отношений $M(I, J, V )$ и $N(J, K, W)$, имеющих общим только атрибут $J$, создаст кортежи $(i, j, k, v, w)$ из каждого кортежа $(i, j, v) \\in M$ и кортежа $(j, k, w) \\in N$. Такой 5 компонентный кортеж представляет пару элементов матрицы $(m_{ij} , n_{jk})$. Что нам хотелось бы получить на самом деле, это произведение этих элементов, то есть, 4 компонентный кортеж$(i, j, k, v \\times w)$, так как он представляет произведение $m_{ij}n_{jk}$. Мы представляем отношение как результат одной MapReduce операции, в которой мы можем произвести группировку и аггрегацию, с $I$ и $K$  атрибутами, по которым идёт группировка, и суммой  $V \\times W$.\n",
        "\n",
        "\n",
        "\n"
      ]
    },
    {
      "cell_type": "code",
      "metadata": {
        "id": "1MBkGaLAYVCt"
      },
      "source": [
        "# MapReduce model\n",
        "def flatten(nested_iterable):\n",
        "  for iterable in nested_iterable:\n",
        "    for element in iterable:\n",
        "      yield element\n",
        "\n",
        "def groupbykey(iterable):\n",
        "  t = {}\n",
        "  for (k2, v2) in iterable:\n",
        "    t[k2] = t.get(k2, []) + [v2]\n",
        "  return t.items()\n",
        "\n",
        "def MapReduce(RECORDREADER, MAP, REDUCE):\n",
        "  return flatten(map(lambda x: REDUCE(*x), groupbykey(flatten(map(lambda x: MAP(*x), RECORDREADER())))))"
      ],
      "execution_count": 35,
      "outputs": []
    },
    {
      "cell_type": "markdown",
      "metadata": {
        "id": "sMspsOT0ZB35"
      },
      "source": [
        "Реализуйте перемножение матриц с использованием модельного кода MapReduce для одной машины в случае, когда одна матрица хранится в памяти, а другая генерируется RECORDREADER-ом."
      ]
    },
    {
      "cell_type": "code",
      "metadata": {
        "id": "psP1XekbsEjS"
      },
      "source": [
        "import numpy as np\n",
        "I = 2\n",
        "J = 3\n",
        "K = 4*10\n",
        "small_mat = np.random.rand(I,J) # it is legal to access this from RECORDREADER, MAP, REDUCE\n",
        "big_mat = np.random.rand(J,K)\n",
        "\n",
        "def RECORDREADER():\n",
        "  \"\"\"\n",
        "  Читает матрицу big_mat и выдает пары (ключ, значение).\n",
        "  Ключ - кортеж (j, k), представляющий индекс элемента в матрице.\n",
        "  Значение - само значение элемента.\n",
        "  \"\"\"\n",
        "  for j in range(big_mat.shape[0]):\n",
        "    for k in range(big_mat.shape[1]):\n",
        "      yield ((j,k), big_mat[j,k]) #Выдача пары (индекс, значение)\n",
        "\n",
        "def MAP(k1, v1):\n",
        "  \"\"\"\n",
        "  Выполняет операцию map.\n",
        "  Вход: k1 (кортеж (j, k)) - индекс из RECORDREADER, v1 (число) - значение из RECORDREADER.\n",
        "  Выход: Выдает пары (ключ, значение). Ключ - (i, k), значение - результат вычислений.\n",
        "  \"\"\"\n",
        "  (j, k) = k1\n",
        "  w = v1\n",
        "  # solution code that yield(k2,v2) pairs\n",
        "  for i in range(I):\n",
        "    k2 = (i,k)\n",
        "    v2 = small_mat[i,j]*w\n",
        "    yield (k2, v2)\n",
        "\n",
        "def REDUCE(key, values):\n",
        "  \"\"\"\n",
        "  Выполняет операцию reduce.\n",
        "  Вход: key (кортеж (i, k)) - ключ, values (список) - список значений из MAP с тем же ключом.\n",
        "  Выход: Выдает одну пару (ключ, значение) для каждого уникального ключа.\n",
        "  \"\"\"\n",
        "  (i, k) = key\n",
        "  # solution code that yield(k3,v3) pairs\n",
        "  k3=(i,k)\n",
        "\n",
        "  v3=0\n",
        "  for j in range(J):\n",
        "    v3+=values[j]\n",
        "\n",
        "  yield (k3,v3)"
      ],
      "execution_count": 36,
      "outputs": []
    },
    {
      "cell_type": "markdown",
      "metadata": {
        "id": "rnt306LHhHrm"
      },
      "source": [
        "Проверьте своё решение"
      ]
    },
    {
      "cell_type": "code",
      "metadata": {
        "id": "Ewy_ZNYqW5a2",
        "colab": {
          "base_uri": "https://localhost:8080/"
        },
        "outputId": "0a8ce3f4-8ad0-43ab-b36b-e87acff3bcd9"
      },
      "source": [
        "# CHECK THE SOLUTION\n",
        "reference_solution = np.matmul(small_mat, big_mat)\n",
        "solution = MapReduce(RECORDREADER, MAP, REDUCE)\n",
        "\n",
        "def asmatrix(reduce_output):\n",
        "  reduce_output = list(reduce_output)\n",
        "  I = max(i for ((i,k), vw) in reduce_output)+1\n",
        "  K = max(k for ((i,k), vw) in reduce_output)+1\n",
        "  mat = np.empty(shape=(I,K))\n",
        "  for ((i,k), vw) in reduce_output:\n",
        "    mat[i,k] = vw\n",
        "  return mat\n",
        "\n",
        "np.allclose(reference_solution, asmatrix(solution)) # should return true"
      ],
      "execution_count": 37,
      "outputs": [
        {
          "output_type": "execute_result",
          "data": {
            "text/plain": [
              "True"
            ]
          },
          "metadata": {},
          "execution_count": 37
        }
      ]
    },
    {
      "cell_type": "code",
      "metadata": {
        "id": "TK7v4CEcfxqf",
        "colab": {
          "base_uri": "https://localhost:8080/"
        },
        "outputId": "911e9b27-0141-4554-91cc-fd3c08bd963c"
      },
      "source": [
        "reduce_output = list(MapReduce(RECORDREADER, MAP, REDUCE))\n",
        "max(i for ((i,k), vw) in reduce_output)"
      ],
      "execution_count": 38,
      "outputs": [
        {
          "output_type": "execute_result",
          "data": {
            "text/plain": [
              "1"
            ]
          },
          "metadata": {},
          "execution_count": 38
        }
      ]
    },
    {
      "cell_type": "markdown",
      "metadata": {
        "id": "i4yyg3kOZqJJ"
      },
      "source": [
        "Реализуйте перемножение матриц  с использованием модельного кода MapReduce для одной машины в случае, когда обе матрицы генерируются в RECORDREADER. Например, сначала одна, а потом другая."
      ]
    },
    {
      "cell_type": "code",
      "metadata": {
        "id": "3B7rIAJCaHZq"
      },
      "source": [
        "import numpy as np\n",
        "I = 2\n",
        "J = 3\n",
        "K = 4*10\n",
        "small_mat = np.random.rand(I,J) # it is legal to access this from RECORDREADER, MAP, REDUCE\n",
        "big_mat = np.random.rand(J,K)\n",
        "\n",
        "def RECORDREADER():\n",
        "  \"\"\"\n",
        "  Генератор, который производит тройки:\n",
        "  ((i,j), значение из small_mat, ((j,k), значение из big_mat)).\n",
        "  во вложенных циклах перебираются все возможные комбинации индексов.\n",
        "  \"\"\"\n",
        "  for i in range(I):\n",
        "    for j in range (J):\n",
        "      for k in range (K):\n",
        "        yield (((i,j), small_mat[i,j], ((j,k), big_mat[j,k])))\n",
        "\n",
        "def MAP(el1, el2):\n",
        "  \"\"\"\n",
        "  Функция Map принимает два элемента:\n",
        "  el1: ((i,j), значение из small_mat)\n",
        "  el2: ((j,k), значение из big_mat)\n",
        "  Вычисляет произведение значений и выдает пару ((i,k), произведение).\n",
        "  \"\"\"\n",
        "  (i,j), v1 = el1\n",
        "  (j,k), v2 = el2\n",
        "  yield ((i,k), v1*v2)\n",
        "\n",
        "def REDUCE(key, values):\n",
        "  \"\"\"\n",
        "  Функция Reduce принимает ключ (i,k) и список значений,\n",
        "  которые соответствуют этому ключу. Вычисляет сумму значений.\n",
        "  \"\"\"\n",
        "  (i, k) = key\n",
        "  # solution code that yield(k3,v3) pairs\n",
        "  k3=(i,k)\n",
        "\n",
        "  v3=0\n",
        "  for j in range(J):\n",
        "    v3+=values[j]\n",
        "\n",
        "  yield (k3,v3)\n",
        "\n",
        "\n"
      ],
      "execution_count": 39,
      "outputs": []
    },
    {
      "cell_type": "markdown",
      "metadata": {
        "id": "mXyzQi1DaIwo"
      },
      "source": [
        "Реализуйте перемножение матриц с использованием модельного кода MapReduce Distributed, когда каждая матрица генерируется в своём RECORDREADER."
      ]
    },
    {
      "cell_type": "code",
      "metadata": {
        "id": "TDM_s78Rb5eR",
        "colab": {
          "base_uri": "https://localhost:8080/"
        },
        "outputId": "7c2f275c-b187-4e2f-d937-574084ed05e3"
      },
      "source": [
        "import numpy as np\n",
        "I = 2\n",
        "J = 3\n",
        "K = 4 * 10\n",
        "\n",
        "small_mat = np.random.rand(I, J)\n",
        "big_mat = np.random.rand(J, K)\n",
        "\n",
        "def INPUTFORMAT():\n",
        "    \"\"\"\n",
        "    Генератор, разбивающий входные данные на части для параллельной обработки.\n",
        "    Разбивает строки small_mat на части размером split_size для передачи в RECORDREADER.\n",
        "    \"\"\"\n",
        "    def RECORDREADER(i_range):\n",
        "        \"\"\"\n",
        "        Внутренний генератор, который производит пары элементов из small_mat и big_mat.\n",
        "        Перебирает все комбинации индексов i, j, k в заданном диапазоне i.\n",
        "        \"\"\"\n",
        "        for i in i_range:\n",
        "            for j in range(J):\n",
        "                for k in range(K):\n",
        "                    yield (((i, j), small_mat[i, j]), ((j, k), big_mat[j, k]))\n",
        "\n",
        "    maps = 2  # Число map-задач\n",
        "    split_size = int(np.ceil(I / maps))  # Размер каждой части входных данных\n",
        "    for i in range(0, I, split_size):\n",
        "        yield RECORDREADER(range(i, min(i + split_size, I)))\n",
        "\n",
        "\n",
        "def MAP(element1, element2):\n",
        "    \"\"\"\n",
        "    Функция Map принимает пары элементов из small_mat и big_mat,\n",
        "    вычисляет их произведение и выдает пару (ключ, значение).\n",
        "    Ключ - (i, k), значение - произведение элементов.\n",
        "    \"\"\"\n",
        "    (i, j), v1 = element1\n",
        "    (j, k), v2 = element2\n",
        "    yield ((i, k), v1 * v2)\n",
        "\n",
        "\n",
        "def REDUCE(key, values):\n",
        "    \"\"\"\n",
        "    Функция Reduce суммирует значения для каждого ключа (i, k).\n",
        "    \"\"\"\n",
        "    (i, k) = key\n",
        "    v3 = sum(values)\n",
        "    yield ((i, k), v3)\n",
        "\n",
        "\n",
        "def partitioner(key):\n",
        "    \"\"\"\n",
        "    Функция распределения ключей по reducer-задачам.\n",
        "    \"\"\"\n",
        "    return hash(key) % reducers\n",
        "\n",
        "\n",
        "reference_solution = np.matmul(small_mat, big_mat)\n",
        "\n",
        "maps = 2\n",
        "reducers = 2\n",
        "partitioned_output = MapReduceDistributed(INPUTFORMAT, MAP, REDUCE, COMBINER=None)\n",
        "partitioned_output = [(partition_id, list(partition)) for partition_id, partition in partitioned_output]\n",
        "\n",
        "\n",
        "solution = []\n",
        "for output_part in partitioned_output:\n",
        "    for element in output_part[1]:\n",
        "        solution.append(element)\n",
        "\n",
        "# Преобразование результата в матрицу для сравнения\n",
        "solution_matrix = np.zeros((I, K))\n",
        "for (i, k), v in solution:\n",
        "    solution_matrix[i, k] = v\n",
        "\n",
        "print(np.allclose(reference_solution, solution_matrix))\n",
        "print(solution_matrix)\n",
        "\n"
      ],
      "execution_count": 40,
      "outputs": [
        {
          "output_type": "stream",
          "name": "stdout",
          "text": [
            "240 key-value pairs were sent over a network.\n",
            "True\n",
            "[[0.36794092 0.65297661 0.63071417 0.61649128 0.6692687  0.72858805\n",
            "  0.58504596 0.88816083 0.71347861 0.54641612 0.95235339 0.35371872\n",
            "  0.32212991 0.40618131 0.53232158 0.3002591  0.60363939 0.70196235\n",
            "  0.31536324 0.61000841 0.29555466 0.42057168 0.72281822 0.72165035\n",
            "  0.80099845 0.46562391 0.63637346 0.73389411 0.52495449 0.61975477\n",
            "  0.47065042 0.16152204 0.56292242 0.75293401 0.45647995 0.37762146\n",
            "  0.44302378 0.80100509 0.30794896 0.59935822]\n",
            " [0.33547899 0.64730209 0.63371201 0.67354952 0.58918959 0.64577155\n",
            "  0.66245038 0.87132764 0.72440008 0.64278878 0.91375023 0.29451422\n",
            "  0.28177176 0.36297924 0.53850912 0.36190831 0.67910724 0.66795628\n",
            "  0.2611174  0.43317894 0.28299674 0.47362682 0.78307441 0.66847344\n",
            "  0.8107369  0.41896278 0.56692834 0.64435408 0.60225194 0.64382079\n",
            "  0.37942731 0.1925814  0.61172541 0.7194738  0.42230828 0.31844425\n",
            "  0.372821   0.75381787 0.30095368 0.56492381]]\n"
          ]
        }
      ]
    },
    {
      "cell_type": "markdown",
      "metadata": {
        "id": "ZuSA2P9Db6UM"
      },
      "source": [
        "Обобщите предыдущее решение на случай, когда каждая матрица генерируется несколькими RECORDREADER-ами, и проверьте его работоспособность. Будет ли работать решение, если RECORDREADER-ы будут генерировать случайное подмножество элементов матрицы?"
      ]
    },
    {
      "cell_type": "markdown",
      "source": [
        "Для того, чтобы обобщить все предыдущие решения (когда каждая матрица генерируется нексколькими RECORDREADER-ами), необходимо расширить решение для того чтобы появилась возможность работать с несколькими генераторами данных для каждой матрицы.\n",
        "Если RECORDREADER-ы будут генерировать случайное подмножество элементов матрицы необходимо проверить, что все возможные индексы матрицы будут правильно обработаны."
      ],
      "metadata": {
        "id": "pW1gbm4VSx4B"
      }
    },
    {
      "cell_type": "code",
      "metadata": {
        "id": "ehN0FqRDcwU5"
      },
      "source": [],
      "execution_count": null,
      "outputs": []
    }
  ]
}
